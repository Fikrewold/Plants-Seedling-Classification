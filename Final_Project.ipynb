{
 "cells": [
  {
   "cell_type": "markdown",
   "metadata": {
    "colab_type": "text",
    "id": "view-in-github"
   },
   "source": [
    "[View in Colaboratory](https://colab.research.google.com/github/mmerc/MSDS686-Seedlings-Classification-CNN/blob/master/Final_Project.ipynb)"
   ]
  },
  {
   "cell_type": "markdown",
   "metadata": {
    "colab_type": "text",
    "id": "xnRPzZWYFU2v"
   },
   "source": [
    "#  Regis University MSDS 686 Deep Learning Course Project\n",
    "##By:  Maria Mercier\n",
    "### October 20, 2018"
   ]
  },
  {
   "cell_type": "markdown",
   "metadata": {
    "colab_type": "text",
    "id": "u08Dwe6iFwjr"
   },
   "source": [
    "# Introduction"
   ]
  },
  {
   "cell_type": "markdown",
   "metadata": {
    "colab_type": "text",
    "id": "6y30PmR5F1aM"
   },
   "source": [
    "This paper decribes the process for developing and comparing convolutional neural networks (CNN) in a classification problem for a deep learning course. The data used in this project is the \"Plant Seedling Data\" from a Kaggle competition. The goal of the classification problem is to predict the species of plant seedling based on images.\n",
    "\n",
    "The process for this project includes several components.  The plant seedling training and testing data were obtained from the Kaggle website and loaded in Colab for processing.  The Kaggle images are \"labeled\" by placement of each image in a folder with the designated label.  The images were retrieved from these folders, placed into an array with the name of the folder set as the \"label.\"  Once the images are obtained, the training data is separated into images and labels. The training data is then processed as input for CNN in Keras.  \n",
    "\n",
    "Six CNN models were tested and compared to identify the most accurate model to use for the Kaggle submission.  I included six of the many models I tried to compare the results of models with a simple architecture (fewer parameters) to those models with complex architecture (larger number of parameters).  Most of the code for this project was modified from NikKonst (2018) which along with the Chollett (2018 )textbook served as a guide for the entire process.  Helpful information was also obtained from classmates posting their experiences on the course discussion board.\n",
    "\n",
    "The project was performed on Colab's tensorflow deep learning software running on Google's Graphic Processing Unit.  \n",
    "\n",
    "Although model2 had the second best baseline error rate,  it was used for the Kaggle submission due to little overfitting which hopefully would generalize well to new data.  The Kaggle submission achieved a score of 0.89.\n"
   ]
  },
  {
   "cell_type": "markdown",
   "metadata": {
    "colab_type": "text",
    "id": "im_8NY6BGEEh"
   },
   "source": [
    "# Load Data into Colab"
   ]
  },
  {
   "cell_type": "markdown",
   "metadata": {
    "colab_type": "text",
    "id": "WPC06B1pGIr7"
   },
   "source": [
    "The data set was obtained from Kaggle (2018).  It was then uploaded to Google Drive via the intructions on CoLab Drive FUSE example.ipynb (2018).  "
   ]
  },
  {
   "cell_type": "code",
   "execution_count": 0,
   "metadata": {
    "colab": {},
    "colab_type": "code",
    "id": "5FAuaqolwyGu"
   },
   "outputs": [],
   "source": [
    "\n",
    "from google.colab import drive"
   ]
  },
  {
   "cell_type": "code",
   "execution_count": 2,
   "metadata": {
    "colab": {
     "base_uri": "https://localhost:8080/",
     "height": 121
    },
    "colab_type": "code",
    "id": "YhX8CposzKPs",
    "outputId": "37b16922-57ad-4d56-fdfc-a67be3db3ec6"
   },
   "outputs": [
    {
     "name": "stdout",
     "output_type": "stream",
     "text": [
      "Go to this URL in a browser: https://accounts.google.com/o/oauth2/auth?client_id=947318989803-6bn6qk8qdgf4n4g3pfee6491hc0brc4i.apps.googleusercontent.com&redirect_uri=urn%3Aietf%3Awg%3Aoauth%3A2.0%3Aoob&scope=email%20https%3A%2F%2Fwww.googleapis.com%2Fauth%2Fdocs.test%20https%3A%2F%2Fwww.googleapis.com%2Fauth%2Fdrive%20https%3A%2F%2Fwww.googleapis.com%2Fauth%2Fdrive.photos.readonly%20https%3A%2F%2Fwww.googleapis.com%2Fauth%2Fpeopleapi.readonly&response_type=code\n",
      "\n",
      "Enter your authorization code:\n",
      "··········\n",
      "Mounted at /content/drive\n"
     ]
    }
   ],
   "source": [
    "drive.mount('/content/drive')"
   ]
  },
  {
   "cell_type": "code",
   "execution_count": 3,
   "metadata": {
    "colab": {
     "base_uri": "https://localhost:8080/",
     "height": 34
    },
    "colab_type": "code",
    "id": "Ru7pcXoXkMIJ",
    "outputId": "31d3fe0f-5153-49b5-f908-f96a1556ee29"
   },
   "outputs": [
    {
     "name": "stdout",
     "output_type": "stream",
     "text": [
      "res.csv  test  train\n"
     ]
    }
   ],
   "source": [
    "# check to see that the test and training folders with the seedling data is present in Colab\n",
    "!ls \"/content/drive/My Drive/DLproject/seedlingsToColab\""
   ]
  },
  {
   "cell_type": "markdown",
   "metadata": {
    "colab_type": "text",
    "id": "hKOMd7-qi8_a"
   },
   "source": [
    "# Import Libraries"
   ]
  },
  {
   "cell_type": "code",
   "execution_count": 4,
   "metadata": {
    "colab": {
     "base_uri": "https://localhost:8080/",
     "height": 34
    },
    "colab_type": "code",
    "id": "SZ-OyeVPz6CF",
    "outputId": "6646b6c0-3492-48b6-ce71-6aa426ac95ec"
   },
   "outputs": [
    {
     "name": "stderr",
     "output_type": "stream",
     "text": [
      "Using TensorFlow backend.\n"
     ]
    }
   ],
   "source": [
    "# import needed libraries\n",
    "import os as os\n",
    "from PIL import Image\n",
    "from array import array\n",
    "import cv2 as cv2\n",
    "from glob import glob\n",
    "import time\n",
    "from matplotlib import pyplot as plt\n",
    "%matplotlib inline\n",
    "import numpy as np\n",
    "import pandas as pd\n",
    "\n",
    "from keras.utils import np_utils\n",
    "from sklearn import preprocessing\n",
    "\n",
    "from keras.models import Sequential\n",
    "from keras.layers import Dense\n",
    "from keras.layers import Dropout\n",
    "from keras.layers import Flatten\n",
    "from keras.layers.convolutional import Conv2D\n",
    "from keras.layers.convolutional import MaxPooling2D\n",
    "from keras.layers import BatchNormalization\n",
    "from keras import optimizers\n",
    "from keras.optimizers import Adam\n",
    "from keras import regularizers\n",
    "from keras import layers\n",
    "seed = 7\n",
    "np.random.seed(seed)\n",
    "\n",
    "# for API\n",
    "from keras.models import Model\n",
    "from keras.layers import Input, Concatenate, Dense, Dropout, Flatten, Activation\n",
    "\n",
    "from keras.layers.normalization import BatchNormalization\n",
    "from keras.utils import to_categorical\n",
    "from keras import backend as K\n",
    "\n",
    "K.set_image_dim_ordering( 'tf' )\n"
   ]
  },
  {
   "cell_type": "markdown",
   "metadata": {
    "colab_type": "text",
    "id": "QggJXu1OD49O"
   },
   "source": [
    "# Organize Data "
   ]
  },
  {
   "cell_type": "markdown",
   "metadata": {
    "colab_type": "text",
    "id": "kAoGapUOHgPV"
   },
   "source": [
    "The follow code establishes the paths to the train and test data.  The training data was then divided into images and labels.  The code for this step was compiled from NikKonst (2018)."
   ]
  },
  {
   "cell_type": "code",
   "execution_count": 0,
   "metadata": {
    "colab": {},
    "colab_type": "code",
    "id": "3WOLAY2SGDM5"
   },
   "outputs": [],
   "source": [
    "pathToTrain = \"/content/drive/My Drive/DLproject/seedlingsToColab/train/\"\n",
    "testPath = \"/content/drive/My Drive/DLproject/seedlingsToColab/test/\""
   ]
  },
  {
   "cell_type": "code",
   "execution_count": 6,
   "metadata": {
    "colab": {
     "base_uri": "https://localhost:8080/",
     "height": 252
    },
    "colab_type": "code",
    "id": "MUBLz0fWD9ZE",
    "outputId": "5bf66abb-6d76-4e22-c751-dc74ec9fae4e"
   },
   "outputs": [
    {
     "name": "stdout",
     "output_type": "stream",
     "text": [
      "12\n",
      "Small-flowered Cranesbill\n",
      "Sugar beet\n",
      "Black-grass\n",
      "Scentless Mayweed\n",
      "Loose Silky-bent\n",
      "Common Chickweed\n",
      "Maize\n",
      "Fat Hen\n",
      "Shepherds Purse\n",
      "Charlock\n",
      "Common wheat\n",
      "Cleavers\n",
      "2405.1515510082245  seconds\n"
     ]
    }
   ],
   "source": [
    "\n",
    "\n",
    "listing = os.listdir( pathToTrain ) \n",
    "num_folders = len(listing)\n",
    "print ( num_folders)\n",
    "trainArray = [[]]\n",
    "trainImagesPaths = []\n",
    "trainImagesCategories = []\n",
    "trainImg = []\n",
    "scaleTo = 71\n",
    "seed = 7\n",
    "\n",
    "t0=time.time()\n",
    "\n",
    "for imgFolder in listing:\n",
    "  print(imgFolder)\n",
    "  path = \"/content/drive/My Drive/DLproject/seedlingsToColab/train/\" + imgFolder + '/'\n",
    "  files = os.listdir( path ) \n",
    "  for imgFile in files:\n",
    "    imgPath = path + imgFile\n",
    "    trainArray.append([imgPath, imgFolder]) # image path, image folder\n",
    "    trainImagesPaths.append(imgPath) # paths to images\n",
    "    trainImagesCategories.append(imgFolder) # labels\n",
    "    \n",
    "    trainImg.append(cv2.resize(cv2.imread(imgPath), (scaleTo, scaleTo))) # images\n",
    "    \n",
    "t1=time.time()\n",
    "print(t1-t0,\" seconds\")\n",
    "  "
   ]
  },
  {
   "cell_type": "code",
   "execution_count": 7,
   "metadata": {
    "colab": {
     "base_uri": "https://localhost:8080/",
     "height": 34
    },
    "colab_type": "code",
    "id": "mlBptSwZdvBE",
    "outputId": "a2a0e591-8d39-45b1-aac0-2bd2e8bb2b7c"
   },
   "outputs": [
    {
     "data": {
      "text/plain": [
       "'/content/drive/My Drive/DLproject/seedlingsToColab/train/Small-flowered Cranesbill/5fa533084.png'"
      ]
     },
     "execution_count": 7,
     "metadata": {
      "tags": []
     },
     "output_type": "execute_result"
    }
   ],
   "source": [
    "trainImagesPaths[1] # gives the path to the first image"
   ]
  },
  {
   "cell_type": "markdown",
   "metadata": {
    "colab_type": "text",
    "id": "jpWHgN__WeNP"
   },
   "source": [
    "### Data Array Creation"
   ]
  },
  {
   "cell_type": "code",
   "execution_count": 0,
   "metadata": {
    "colab": {},
    "colab_type": "code",
    "id": "Ud0fJjMwxFhu"
   },
   "outputs": [],
   "source": [
    "trainImgNParray = np.asarray(trainImg) # create an array of all the images (not the paths)\n",
    "trainlabel = pd.DataFrame(trainImagesCategories) # dataframe of all the categories matching each image"
   ]
  },
  {
   "cell_type": "code",
   "execution_count": 7,
   "metadata": {
    "colab": {
     "base_uri": "https://localhost:8080/",
     "height": 34
    },
    "colab_type": "code",
    "id": "CEkVaBRAKYG7",
    "outputId": "c6be8fd2-aa54-4a96-ed4d-8d995da50ccb"
   },
   "outputs": [
    {
     "data": {
      "text/plain": [
       "4750"
      ]
     },
     "execution_count": 7,
     "metadata": {
      "tags": []
     },
     "output_type": "execute_result"
    }
   ],
   "source": [
    "# check the length of the training images for confirmation\n",
    "len(trainImgNParray)"
   ]
  },
  {
   "cell_type": "code",
   "execution_count": 8,
   "metadata": {
    "colab": {
     "base_uri": "https://localhost:8080/",
     "height": 34
    },
    "colab_type": "code",
    "id": "MPSs252LKeal",
    "outputId": "bfe9941e-6235-42b5-fb5b-3197c787b031"
   },
   "outputs": [
    {
     "data": {
      "text/plain": [
       "4750"
      ]
     },
     "execution_count": 8,
     "metadata": {
      "tags": []
     },
     "output_type": "execute_result"
    }
   ],
   "source": [
    "# check the length of labels for confirmation\n",
    "len(trainlabel)"
   ]
  },
  {
   "cell_type": "code",
   "execution_count": 0,
   "metadata": {
    "colab": {},
    "colab_type": "code",
    "id": "7yVKgokwGVUJ"
   },
   "outputs": [],
   "source": [
    "# I tried this code which was suggested by one the classmates but it did not work for me.\n",
    "# np.save('trainImgNParray1', trainImgNParray)"
   ]
  },
  {
   "cell_type": "code",
   "execution_count": 0,
   "metadata": {
    "colab": {},
    "colab_type": "code",
    "id": "Zq6os58xHpCk"
   },
   "outputs": [],
   "source": [
    "# print( os.getcwd() )\n",
    "# print( os.listdir('trainImgNParray1') )"
   ]
  },
  {
   "cell_type": "code",
   "execution_count": 0,
   "metadata": {
    "colab": {},
    "colab_type": "code",
    "id": "5CJWdQaFJWH9"
   },
   "outputs": [],
   "source": [
    "# this did not work for me.\n",
    "# np.load('trainImgNParray1') "
   ]
  },
  {
   "cell_type": "code",
   "execution_count": 18,
   "metadata": {
    "colab": {
     "base_uri": "https://localhost:8080/",
     "height": 34
    },
    "colab_type": "code",
    "id": "eyqUZ2V62lTv",
    "outputId": "58d26f69-4155-4e59-9468-b359e4a90a4c"
   },
   "outputs": [
    {
     "data": {
      "text/plain": [
       "(71, 71, 3)"
      ]
     },
     "execution_count": 18,
     "metadata": {
      "tags": []
     },
     "output_type": "execute_result"
    }
   ],
   "source": [
    "# checking the shape of the first image.\n",
    "trainImgNParray[1].shape"
   ]
  },
  {
   "cell_type": "code",
   "execution_count": 19,
   "metadata": {
    "colab": {
     "base_uri": "https://localhost:8080/",
     "height": 34
    },
    "colab_type": "code",
    "id": "WBNlnTOZ4X99",
    "outputId": "ed6f29ee-8292-4308-c746-502ee0845750"
   },
   "outputs": [
    {
     "data": {
      "text/plain": [
       "numpy.ndarray"
      ]
     },
     "execution_count": 19,
     "metadata": {
      "tags": []
     },
     "output_type": "execute_result"
    }
   ],
   "source": [
    "type(trainImgNParray) # verifing the data type"
   ]
  },
  {
   "cell_type": "code",
   "execution_count": 20,
   "metadata": {
    "colab": {
     "base_uri": "https://localhost:8080/",
     "height": 34
    },
    "colab_type": "code",
    "id": "qJYtHNfgzw26",
    "outputId": "032d5323-a244-4518-f3f0-d49c5a7acd07"
   },
   "outputs": [
    {
     "data": {
      "text/plain": [
       "4750"
      ]
     },
     "execution_count": 20,
     "metadata": {
      "tags": []
     },
     "output_type": "execute_result"
    }
   ],
   "source": [
    "len(trainImagesPaths)"
   ]
  },
  {
   "cell_type": "code",
   "execution_count": 21,
   "metadata": {
    "colab": {
     "base_uri": "https://localhost:8080/",
     "height": 54
    },
    "colab_type": "code",
    "id": "Kx2UcRzW0fbZ",
    "outputId": "95324b2b-3371-4cdb-de4c-76a21b70b21f"
   },
   "outputs": [
    {
     "name": "stdout",
     "output_type": "stream",
     "text": [
      "['/content/drive/My Drive/DLproject/seedlingsToColab/train/Small-flowered Cranesbill/ba08ca84c.png', '/content/drive/My Drive/DLproject/seedlingsToColab/train/Small-flowered Cranesbill/5fa533084.png', '/content/drive/My Drive/DLproject/seedlingsToColab/train/Small-flowered Cranesbill/42db489c6.png', '/content/drive/My Drive/DLproject/seedlingsToColab/train/Small-flowered Cranesbill/3ad4ad205.png', '/content/drive/My Drive/DLproject/seedlingsToColab/train/Small-flowered Cranesbill/39070241e.png']\n"
     ]
    }
   ],
   "source": [
    "print(trainImagesPaths[0:5])"
   ]
  },
  {
   "cell_type": "markdown",
   "metadata": {
    "colab_type": "text",
    "id": "QmjdtWspiDGo"
   },
   "source": [
    "### Display 12 images."
   ]
  },
  {
   "cell_type": "markdown",
   "metadata": {
    "colab_type": "text",
    "id": "02SINovQJuDg"
   },
   "source": [
    "The next step was to display a few of the images to verify that they were read correctly.  The code for this step was taken from  NikKonst (2018)."
   ]
  },
  {
   "cell_type": "code",
   "execution_count": 9,
   "metadata": {
    "colab": {
     "base_uri": "https://localhost:8080/",
     "height": 269
    },
    "colab_type": "code",
    "id": "e6_zsTeK3qUy",
    "outputId": "d2990576-bcba-4977-960f-8aa7f404bba1"
   },
   "outputs": [
    {
     "data": {
      "image/png": "[encoded data removed]",
      "text/plain": [
       "<matplotlib.figure.Figure at 0x7f8961c79908>"
      ]
     },
     "metadata": {
      "tags": []
     },
     "output_type": "display_data"
    }
   ],
   "source": [
    "for i in range(12):\n",
    "  plt.subplot(3,4, i+1)\n",
    "  plt.imshow(trainImg[i])"
   ]
  },
  {
   "cell_type": "code",
   "execution_count": 23,
   "metadata": {
    "colab": {
     "base_uri": "https://localhost:8080/",
     "height": 285
    },
    "colab_type": "code",
    "id": "2xU9l5UriNUQ",
    "outputId": "cf93b096-fec9-45b0-922b-cb34d5e36ed2"
   },
   "outputs": [
    {
     "data": {
      "text/plain": [
       "<matplotlib.image.AxesImage at 0x7f9be7404eb8>"
      ]
     },
     "execution_count": 23,
     "metadata": {
      "tags": []
     },
     "output_type": "execute_result"
    },
    {
     "data": {
      "image/png": "[encoded data removed]",
      "text/plain": [
       "<matplotlib.figure.Figure at 0x7f9beb9505f8>"
      ]
     },
     "metadata": {
      "tags": []
     },
     "output_type": "display_data"
    }
   ],
   "source": [
    "plt.imshow(trainImg[3])"
   ]
  },
  {
   "cell_type": "code",
   "execution_count": 24,
   "metadata": {
    "colab": {
     "base_uri": "https://localhost:8080/",
     "height": 34
    },
    "colab_type": "code",
    "id": "t40G0Vi9BCcY",
    "outputId": "61a8c949-4dac-464d-ef33-c9cf45d7835d"
   },
   "outputs": [
    {
     "data": {
      "text/plain": [
       "(71, 71, 3)"
      ]
     },
     "execution_count": 24,
     "metadata": {
      "tags": []
     },
     "output_type": "execute_result"
    }
   ],
   "source": [
    "im = trainImg[3]\n",
    "im.shape"
   ]
  },
  {
   "cell_type": "code",
   "execution_count": 25,
   "metadata": {
    "colab": {
     "base_uri": "https://localhost:8080/",
     "height": 34
    },
    "colab_type": "code",
    "id": "gOpmyEL4dvjw",
    "outputId": "f9fe9947-febe-4d74-aaad-9a97a0a3fd33"
   },
   "outputs": [
    {
     "data": {
      "text/plain": [
       "'/content/drive/My Drive/DLproject/seedlingsToColab/train/Small-flowered Cranesbill/ff07b2015.png'"
      ]
     },
     "execution_count": 25,
     "metadata": {
      "tags": []
     },
     "output_type": "execute_result"
    }
   ],
   "source": [
    "trainArray[7][0]"
   ]
  },
  {
   "cell_type": "code",
   "execution_count": 26,
   "metadata": {
    "colab": {
     "base_uri": "https://localhost:8080/",
     "height": 34
    },
    "colab_type": "code",
    "id": "Ay_6MKssitX1",
    "outputId": "8fe1e458-50e6-4854-e4c6-456704735bfc"
   },
   "outputs": [
    {
     "data": {
      "text/plain": [
       "'Small-flowered Cranesbill'"
      ]
     },
     "execution_count": 26,
     "metadata": {
      "tags": []
     },
     "output_type": "execute_result"
    }
   ],
   "source": [
    "trainArray[7][1]"
   ]
  },
  {
   "cell_type": "code",
   "execution_count": 27,
   "metadata": {
    "colab": {
     "base_uri": "https://localhost:8080/",
     "height": 34
    },
    "colab_type": "code",
    "id": "Bq6jhEOOituC",
    "outputId": "762971e2-fdd8-4a18-e246-b908d6648397"
   },
   "outputs": [
    {
     "data": {
      "text/plain": [
       "(4750, 71, 71, 3)"
      ]
     },
     "execution_count": 27,
     "metadata": {
      "tags": []
     },
     "output_type": "execute_result"
    }
   ],
   "source": [
    "trainImgNParray.shape"
   ]
  },
  {
   "cell_type": "code",
   "execution_count": 28,
   "metadata": {
    "colab": {
     "base_uri": "https://localhost:8080/",
     "height": 34
    },
    "colab_type": "code",
    "id": "4jbQSR7NiuCH",
    "outputId": "5043f3ea-c747-48dd-a7b8-ce0cc900a1bf"
   },
   "outputs": [
    {
     "data": {
      "text/plain": [
       "(4750, 1)"
      ]
     },
     "execution_count": 28,
     "metadata": {
      "tags": []
     },
     "output_type": "execute_result"
    }
   ],
   "source": [
    "trainlabel.shape"
   ]
  },
  {
   "cell_type": "markdown",
   "metadata": {
    "colab_type": "text",
    "id": "D91nQDYejWZ5"
   },
   "source": [
    "### Remove Background Images with Mask"
   ]
  },
  {
   "cell_type": "markdown",
   "metadata": {
    "colab_type": "text",
    "id": "bL1iN7HzjVQy"
   },
   "source": [
    "Although we did not cover creating a mask in our course, this technique to remove the background images appeared to be helpful for isolating the image of the seedlings.  The code and comments for this step was taken from NikKonst (2018)."
   ]
  },
  {
   "cell_type": "code",
   "execution_count": 9,
   "metadata": {
    "colab": {
     "base_uri": "https://localhost:8080/",
     "height": 268
    },
    "colab_type": "code",
    "id": "4vGGAUOzjetP",
    "outputId": "d16ed364-b07a-4aa4-ab76-bc2ca27a47fd"
   },
   "outputs": [
    {
     "data": {
      "image/png": "[encoded data removed]",
      "text/plain": [
       "<matplotlib.figure.Figure at 0x7fcd73fe5d30>"
      ]
     },
     "metadata": {
      "tags": []
     },
     "output_type": "display_data"
    }
   ],
   "source": [
    "clearTrainImg = []\n",
    "examples = []; getEx = True\n",
    "for img in trainImgNParray:\n",
    "    # Use gaussian blur\n",
    "    blurImg = cv2.GaussianBlur(img, (5, 5), 0)   \n",
    "    \n",
    "    # Convert to HSV image\n",
    "    hsvImg = cv2.cvtColor(blurImg, cv2.COLOR_BGR2HSV)  \n",
    "    \n",
    "    # Create mask (parameters - green color range)\n",
    "    lower_green = (25, 40, 50)\n",
    "    upper_green = (75, 255, 255)\n",
    "    mask = cv2.inRange(hsvImg, lower_green, upper_green)  \n",
    "    kernel = cv2.getStructuringElement(cv2.MORPH_ELLIPSE, (11, 11))\n",
    "    mask = cv2.morphologyEx(mask, cv2.MORPH_CLOSE, kernel)\n",
    "    \n",
    "    # Create bool mask\n",
    "    bMask = mask > 0  \n",
    "    \n",
    "    # Apply the mask\n",
    "    clear = np.zeros_like(img, np.uint8)  # Create empty image\n",
    "    clear[bMask] = img[bMask]  # Apply boolean mask to the origin image\n",
    "    \n",
    "    clearTrainImg.append(clear)  # Append image without backgroung\n",
    "    \n",
    "    # Show examples\n",
    "    if getEx:\n",
    "        plt.subplot(2, 3, 1); plt.imshow(img)  # Show the original image\n",
    "        plt.subplot(2, 3, 2); plt.imshow(blurImg)  # Blur image\n",
    "        plt.subplot(2, 3, 3); plt.imshow(hsvImg)  # HSV image\n",
    "        plt.subplot(2, 3, 4); plt.imshow(mask)  # Mask\n",
    "        plt.subplot(2, 3, 5); plt.imshow(bMask)  # Boolean mask\n",
    "        plt.subplot(2, 3, 6); plt.imshow(clear)  # Image without background\n",
    "        getEx = False\n",
    "\n",
    "clearTrainImg = np.asarray(clearTrainImg)"
   ]
  },
  {
   "cell_type": "markdown",
   "metadata": {
    "colab_type": "text",
    "id": "z7hDsu90kg2R"
   },
   "source": [
    "### Prepare The Data"
   ]
  },
  {
   "cell_type": "markdown",
   "metadata": {
    "colab_type": "text",
    "id": "zIW65JfWLz_c"
   },
   "source": [
    "The process for preparing the data included, normalization, encoding, and categorizing the labels from the folders.  The code for preparing the data was taken from  NikKonst (2018).\n"
   ]
  },
  {
   "cell_type": "code",
   "execution_count": 0,
   "metadata": {
    "colab": {},
    "colab_type": "code",
    "id": "qbcSJz5Mje_G"
   },
   "outputs": [],
   "source": [
    "# normalize the training data\n",
    "clearTrainImg = clearTrainImg/255"
   ]
  },
  {
   "cell_type": "code",
   "execution_count": 11,
   "metadata": {
    "colab": {
     "base_uri": "https://localhost:8080/",
     "height": 453
    },
    "colab_type": "code",
    "id": "I9chWRjplHbM",
    "outputId": "ec0f0980-62f4-45e0-de17-75211f06df9a"
   },
   "outputs": [
    {
     "name": "stdout",
     "output_type": "stream",
     "text": [
      "Classes: ['Black-grass' 'Charlock' 'Cleavers' 'Common Chickweed' 'Common wheat'\n",
      " 'Fat Hen' 'Loose Silky-bent' 'Maize' 'Scentless Mayweed'\n",
      " 'Shepherds Purse' 'Small-flowered Cranesbill' 'Sugar beet']\n",
      "Number of classes: 12\n"
     ]
    },
    {
     "data": {
      "text/plain": [
       "<matplotlib.axes._subplots.AxesSubplot at 0x7fcd19a7cba8>"
      ]
     },
     "execution_count": 11,
     "metadata": {
      "tags": []
     },
     "output_type": "execute_result"
    },
    {
     "data": {
      "image/png": "[encoded data removed]",
      "text/plain": [
       "<matplotlib.figure.Figure at 0x7fcd8aa88f28>"
      ]
     },
     "metadata": {
      "tags": []
     },
     "output_type": "display_data"
    }
   ],
   "source": [
    "# Encode labels and create classes\n",
    "le = preprocessing.LabelEncoder()\n",
    "le.fit(trainlabel[0])\n",
    "print(\"Classes: \" + str(le.classes_))\n",
    "encodeTrainLabels = le.transform(trainlabel[0])\n",
    "\n",
    "# Make labels categorical\n",
    "clearTrainLabel = np_utils.to_categorical(encodeTrainLabels)\n",
    "num_clases = clearTrainLabel.shape[1]\n",
    "print(\"Number of classes: \" + str(num_clases))\n",
    "\n",
    "# Plot of label types numbers\n",
    "trainlabel[0].value_counts().plot(kind='bar')"
   ]
  },
  {
   "cell_type": "markdown",
   "metadata": {
    "colab_type": "text",
    "id": "PVnOcfH_MTT7"
   },
   "source": [
    "The above chart shows that there are different quantities of data in each label.  This is important to know to set up the training and validation sets.  The training and validation sets will be stratified according to the quantity for each label."
   ]
  },
  {
   "cell_type": "code",
   "execution_count": 32,
   "metadata": {
    "colab": {
     "base_uri": "https://localhost:8080/",
     "height": 34
    },
    "colab_type": "code",
    "id": "BlNkdYbxlHke",
    "outputId": "8ea7a6c3-0162-4628-f427-d5e825f26676"
   },
   "outputs": [
    {
     "data": {
      "text/plain": [
       "dtype('float64')"
      ]
     },
     "execution_count": 32,
     "metadata": {
      "tags": []
     },
     "output_type": "execute_result"
    }
   ],
   "source": [
    "# check the data type of the training images\n",
    "clearTrainImg.dtype"
   ]
  },
  {
   "cell_type": "code",
   "execution_count": 0,
   "metadata": {
    "colab": {},
    "colab_type": "code",
    "id": "3Yeu-GgY6WRQ"
   },
   "outputs": [],
   "source": [
    "# I converted the training images to float 32 but this had negative affects on the models performances. So, the images were left as float 64.\n",
    "# clearTrainImg = clearTrainImg.astype('float32')"
   ]
  },
  {
   "cell_type": "code",
   "execution_count": 33,
   "metadata": {
    "colab": {
     "base_uri": "https://localhost:8080/",
     "height": 34
    },
    "colab_type": "code",
    "id": "KtlZANCpxxqh",
    "outputId": "5c7e7230-d5ad-4e5f-ff6b-d2b7bcf02c99"
   },
   "outputs": [
    {
     "data": {
      "text/plain": [
       "dtype('float32')"
      ]
     },
     "execution_count": 33,
     "metadata": {
      "tags": []
     },
     "output_type": "execute_result"
    }
   ],
   "source": [
    "clearTrainLabel.dtype"
   ]
  },
  {
   "cell_type": "markdown",
   "metadata": {
    "colab_type": "text",
    "id": "etcpv7ojl7E9"
   },
   "source": [
    "### Training and Validation Sets"
   ]
  },
  {
   "cell_type": "code",
   "execution_count": 0,
   "metadata": {
    "colab": {},
    "colab_type": "code",
    "id": "dZLrniEHjfqe"
   },
   "outputs": [],
   "source": [
    "from sklearn.model_selection import train_test_split\n",
    "# I used a 90% - 10% test train split, stratified according to training labels.  The code is from NikKonst (2018)\n",
    "trainX, testX, trainY, testY = train_test_split(clearTrainImg, clearTrainLabel, \n",
    "                                                test_size=0.10, random_state=seed, \n",
    "                                                stratify = clearTrainLabel)"
   ]
  },
  {
   "cell_type": "markdown",
   "metadata": {
    "colab_type": "text",
    "id": "qpq_3rIZNbgl"
   },
   "source": [
    "The next several lines of code are checking the shape and data type of the training and test (validation) sets."
   ]
  },
  {
   "cell_type": "code",
   "execution_count": 14,
   "metadata": {
    "colab": {
     "base_uri": "https://localhost:8080/",
     "height": 34
    },
    "colab_type": "code",
    "id": "cCjlsDw69nE2",
    "outputId": "3b93c1c3-327e-4334-b72a-c853a5d5cd7b"
   },
   "outputs": [
    {
     "data": {
      "text/plain": [
       "(4275, 71, 71, 3)"
      ]
     },
     "execution_count": 14,
     "metadata": {
      "tags": []
     },
     "output_type": "execute_result"
    }
   ],
   "source": [
    "trainX.shape"
   ]
  },
  {
   "cell_type": "code",
   "execution_count": 15,
   "metadata": {
    "colab": {
     "base_uri": "https://localhost:8080/",
     "height": 34
    },
    "colab_type": "code",
    "id": "UGBpNQgO-Q_j",
    "outputId": "cf05cc1d-1fbc-4c93-8938-6e47dcd2d510"
   },
   "outputs": [
    {
     "data": {
      "text/plain": [
       "numpy.ndarray"
      ]
     },
     "execution_count": 15,
     "metadata": {
      "tags": []
     },
     "output_type": "execute_result"
    }
   ],
   "source": [
    "type(trainX)"
   ]
  },
  {
   "cell_type": "code",
   "execution_count": 37,
   "metadata": {
    "colab": {
     "base_uri": "https://localhost:8080/",
     "height": 34
    },
    "colab_type": "code",
    "id": "S67Ve1LU903g",
    "outputId": "6ce42ada-bbb3-4c2c-9cc6-3ca88e6edb66"
   },
   "outputs": [
    {
     "data": {
      "text/plain": [
       "(475, 71, 71, 3)"
      ]
     },
     "execution_count": 37,
     "metadata": {
      "tags": []
     },
     "output_type": "execute_result"
    }
   ],
   "source": [
    "testX.shape"
   ]
  },
  {
   "cell_type": "code",
   "execution_count": 38,
   "metadata": {
    "colab": {
     "base_uri": "https://localhost:8080/",
     "height": 34
    },
    "colab_type": "code",
    "id": "uxkQqmy8-clg",
    "outputId": "a2930c7f-dbac-4c72-8e6d-e55f5bb589fd"
   },
   "outputs": [
    {
     "data": {
      "text/plain": [
       "numpy.ndarray"
      ]
     },
     "execution_count": 38,
     "metadata": {
      "tags": []
     },
     "output_type": "execute_result"
    }
   ],
   "source": [
    "type(testX)"
   ]
  },
  {
   "cell_type": "code",
   "execution_count": 39,
   "metadata": {
    "colab": {
     "base_uri": "https://localhost:8080/",
     "height": 34
    },
    "colab_type": "code",
    "id": "6C02HIIf-DBv",
    "outputId": "151e2c5d-654b-45bc-ccfe-250dc1a670eb"
   },
   "outputs": [
    {
     "data": {
      "text/plain": [
       "(4275, 12)"
      ]
     },
     "execution_count": 39,
     "metadata": {
      "tags": []
     },
     "output_type": "execute_result"
    }
   ],
   "source": [
    "trainY.shape"
   ]
  },
  {
   "cell_type": "code",
   "execution_count": 40,
   "metadata": {
    "colab": {
     "base_uri": "https://localhost:8080/",
     "height": 34
    },
    "colab_type": "code",
    "id": "lt_Un6ax-nRL",
    "outputId": "26184048-2b8a-451b-d136-bfa27a5542ef"
   },
   "outputs": [
    {
     "data": {
      "text/plain": [
       "numpy.ndarray"
      ]
     },
     "execution_count": 40,
     "metadata": {
      "tags": []
     },
     "output_type": "execute_result"
    }
   ],
   "source": [
    "type(trainY)"
   ]
  },
  {
   "cell_type": "code",
   "execution_count": 41,
   "metadata": {
    "colab": {
     "base_uri": "https://localhost:8080/",
     "height": 34
    },
    "colab_type": "code",
    "id": "vlasA4KN-DOm",
    "outputId": "c200872c-a184-4b36-f801-4f876af7229a"
   },
   "outputs": [
    {
     "data": {
      "text/plain": [
       "(475, 12)"
      ]
     },
     "execution_count": 41,
     "metadata": {
      "tags": []
     },
     "output_type": "execute_result"
    }
   ],
   "source": [
    "testY.shape"
   ]
  },
  {
   "cell_type": "code",
   "execution_count": 148,
   "metadata": {
    "colab": {
     "base_uri": "https://localhost:8080/",
     "height": 34
    },
    "colab_type": "code",
    "id": "EkrDFOoV-qy9",
    "outputId": "cd8ebd39-dc84-429e-80fb-26bc750c3db4"
   },
   "outputs": [
    {
     "data": {
      "text/plain": [
       "numpy.ndarray"
      ]
     },
     "execution_count": 148,
     "metadata": {
      "tags": []
     },
     "output_type": "execute_result"
    }
   ],
   "source": [
    "type(testY)"
   ]
  },
  {
   "cell_type": "markdown",
   "metadata": {
    "colab_type": "text",
    "id": "yhlBYBKPN8-C"
   },
   "source": [
    "The training and testing/validation sets appear to be the correct shape and data type."
   ]
  },
  {
   "cell_type": "markdown",
   "metadata": {
    "colab_type": "text",
    "id": "Xv-foAeQmMIC"
   },
   "source": [
    "### Data Generator"
   ]
  },
  {
   "cell_type": "markdown",
   "metadata": {
    "colab_type": "text",
    "id": "Hv4diLbnOOMX"
   },
   "source": [
    "According to NikKonst (2018), the data generator is utilized to prevent overfitting.   Data augmentation is configured in the image generator  which will randomly rotate,  shift, zoom and flip image during the fitting of the model.  The generator is set as follows  NikKonst (2018):\n",
    "\n",
    "Set random rotation from 0 to 180 degrees\n",
    "\n",
    "Set random zoom at 0.1\n",
    "\n",
    "Set random shifting at 0.1\n",
    "\n",
    "Set horisontal and vertical flips"
   ]
  },
  {
   "cell_type": "code",
   "execution_count": 0,
   "metadata": {
    "colab": {},
    "colab_type": "code",
    "id": "fbnF6HtWjf4y"
   },
   "outputs": [],
   "source": [
    "# code taken from NikKonst (2018) at https://www.kaggle.com/nikkonst/plant-seedlings-with-cnn-and-image-processing\n",
    "from keras.preprocessing.image import ImageDataGenerator\n",
    "datagen = ImageDataGenerator(\n",
    "        rotation_range=180,  # randomly rotate images in the range\n",
    "        zoom_range = 0.1, # Randomly zoom image \n",
    "        width_shift_range=0.1,  # randomly shift images horizontally\n",
    "        height_shift_range=0.1,  # randomly shift images vertically \n",
    "        horizontal_flip=True,  # randomly flip images horizontally\n",
    "        vertical_flip=True  # randomly flip images vertically\n",
    "    )  \n",
    "datagen.fit(trainX)"
   ]
  },
  {
   "cell_type": "markdown",
   "metadata": {
    "colab_type": "text",
    "id": "l6cWdwsImSBt"
   },
   "source": [
    "# CNN Models"
   ]
  },
  {
   "cell_type": "markdown",
   "metadata": {
    "colab_type": "text",
    "id": "FueKAocOoXl8"
   },
   "source": [
    "I compared six CNN models from various sources and one I created myself."
   ]
  },
  {
   "cell_type": "markdown",
   "metadata": {
    "colab_type": "text",
    "id": "5G7F8rAvQegs"
   },
   "source": [
    "## model_A from Chollet "
   ]
  },
  {
   "cell_type": "markdown",
   "metadata": {
    "colab_type": "text",
    "id": "xUw2gMfKXr9B"
   },
   "source": [
    "The experimentation began with a small CNN from Chollet (2018).  This model has 4 conv layers, each followed by a maxpooling layer and 2 dense layers.  There is no dropout or batch normalization."
   ]
  },
  {
   "cell_type": "code",
   "execution_count": 43,
   "metadata": {
    "colab": {
     "base_uri": "https://localhost:8080/",
     "height": 504
    },
    "colab_type": "code",
    "id": "GlzricgdZlGk",
    "outputId": "97d876b6-c902-42d8-e2b2-4280b84be5b7"
   },
   "outputs": [
    {
     "name": "stdout",
     "output_type": "stream",
     "text": [
      "_________________________________________________________________\n",
      "Layer (type)                 Output Shape              Param #   \n",
      "=================================================================\n",
      "conv2d_1 (Conv2D)            (None, 69, 69, 32)        896       \n",
      "_________________________________________________________________\n",
      "max_pooling2d_1 (MaxPooling2 (None, 34, 34, 32)        0         \n",
      "_________________________________________________________________\n",
      "conv2d_2 (Conv2D)            (None, 32, 32, 64)        18496     \n",
      "_________________________________________________________________\n",
      "max_pooling2d_2 (MaxPooling2 (None, 16, 16, 64)        0         \n",
      "_________________________________________________________________\n",
      "conv2d_3 (Conv2D)            (None, 14, 14, 128)       73856     \n",
      "_________________________________________________________________\n",
      "max_pooling2d_3 (MaxPooling2 (None, 7, 7, 128)         0         \n",
      "_________________________________________________________________\n",
      "conv2d_4 (Conv2D)            (None, 5, 5, 128)         147584    \n",
      "_________________________________________________________________\n",
      "max_pooling2d_4 (MaxPooling2 (None, 2, 2, 128)         0         \n",
      "_________________________________________________________________\n",
      "flatten_1 (Flatten)          (None, 512)               0         \n",
      "_________________________________________________________________\n",
      "dense_1 (Dense)              (None, 64)                32832     \n",
      "_________________________________________________________________\n",
      "dense_2 (Dense)              (None, 12)                780       \n",
      "=================================================================\n",
      "Total params: 274,444\n",
      "Trainable params: 274,444\n",
      "Non-trainable params: 0\n",
      "_________________________________________________________________\n"
     ]
    }
   ],
   "source": [
    "# second model with 4 conv layers taken from Chollet, (2018), page 134.\n",
    "model = Sequential() \n",
    "model.add(layers.Conv2D(32, (3, 3), activation='relu', input_shape=(scaleTo, scaleTo, 3))) \n",
    "model.add(layers.MaxPooling2D((2, 2))) # to downsample the feature maps\n",
    "model.add(layers.Conv2D(64, (3, 3), activation='relu')) \n",
    "model.add(layers.MaxPooling2D((2, 2))) \n",
    "model.add(layers.Conv2D(128, (3, 3), activation='relu'))\n",
    "model.add(layers.MaxPooling2D((2, 2))) \n",
    "model.add(layers.Conv2D(128, (3, 3), activation='relu'))\n",
    "model.add(layers.MaxPooling2D((2, 2))) \n",
    "model.add(layers.Flatten()) \n",
    "model.add(layers.Dense(64, activation='relu'))\n",
    "model.add(layers.Dense(num_clases, activation='softmax'))\n",
    "model.compile(loss='categorical_crossentropy', optimizer='adam', metrics=['accuracy'])\n",
    "\n",
    "model_A = model\n",
    "model_A.summary()"
   ]
  },
  {
   "cell_type": "code",
   "execution_count": 44,
   "metadata": {
    "colab": {
     "base_uri": "https://localhost:8080/",
     "height": 1226
    },
    "colab_type": "code",
    "id": "BVY9P21eaJg4",
    "outputId": "ef3bd2b1-f573-4cbb-a25a-037f56c7bf05"
   },
   "outputs": [
    {
     "name": "stdout",
     "output_type": "stream",
     "text": [
      "Epoch 1/35\n",
      " - 9s - loss: 2.0863 - acc: 0.2667 - val_loss: 1.7924 - val_acc: 0.3347\n",
      "Epoch 2/35\n",
      " - 7s - loss: 1.7706 - acc: 0.3640 - val_loss: 1.6580 - val_acc: 0.3958\n",
      "Epoch 3/35\n",
      " - 7s - loss: 1.6052 - acc: 0.4218 - val_loss: 1.4579 - val_acc: 0.4758\n",
      "Epoch 4/35\n",
      " - 7s - loss: 1.4172 - acc: 0.5074 - val_loss: 1.2801 - val_acc: 0.5642\n",
      "Epoch 5/35\n",
      " - 7s - loss: 1.2844 - acc: 0.5415 - val_loss: 1.1467 - val_acc: 0.6000\n",
      "Epoch 6/35\n",
      " - 7s - loss: 1.2077 - acc: 0.5792 - val_loss: 1.0865 - val_acc: 0.6379\n",
      "Epoch 7/35\n",
      " - 7s - loss: 1.1295 - acc: 0.6091 - val_loss: 1.0558 - val_acc: 0.6568\n",
      "Epoch 8/35\n",
      " - 7s - loss: 1.0102 - acc: 0.6592 - val_loss: 0.9799 - val_acc: 0.6737\n",
      "Epoch 9/35\n",
      " - 7s - loss: 0.9676 - acc: 0.6744 - val_loss: 0.8963 - val_acc: 0.6884\n",
      "Epoch 10/35\n",
      " - 7s - loss: 0.9224 - acc: 0.6837 - val_loss: 0.9253 - val_acc: 0.6947\n",
      "Epoch 11/35\n",
      " - 7s - loss: 0.8512 - acc: 0.7153 - val_loss: 0.7980 - val_acc: 0.7242\n",
      "Epoch 12/35\n",
      " - 7s - loss: 0.8195 - acc: 0.7198 - val_loss: 0.7813 - val_acc: 0.7326\n",
      "Epoch 13/35\n",
      " - 7s - loss: 0.7871 - acc: 0.7331 - val_loss: 0.7870 - val_acc: 0.7305\n",
      "Epoch 14/35\n",
      " - 7s - loss: 0.7372 - acc: 0.7509 - val_loss: 0.6524 - val_acc: 0.7811\n",
      "Epoch 15/35\n",
      " - 7s - loss: 0.7212 - acc: 0.7591 - val_loss: 0.7279 - val_acc: 0.7474\n",
      "Epoch 16/35\n",
      " - 7s - loss: 0.6958 - acc: 0.7546 - val_loss: 0.6675 - val_acc: 0.7768\n",
      "Epoch 17/35\n",
      " - 7s - loss: 0.6537 - acc: 0.7740 - val_loss: 0.6262 - val_acc: 0.7832\n",
      "Epoch 18/35\n",
      " - 7s - loss: 0.6228 - acc: 0.7874 - val_loss: 0.6986 - val_acc: 0.7895\n",
      "Epoch 19/35\n",
      " - 7s - loss: 0.6076 - acc: 0.7946 - val_loss: 0.5916 - val_acc: 0.7979\n",
      "Epoch 20/35\n",
      " - 7s - loss: 0.5789 - acc: 0.8014 - val_loss: 0.6402 - val_acc: 0.7832\n",
      "Epoch 21/35\n",
      " - 7s - loss: 0.5833 - acc: 0.8019 - val_loss: 0.5648 - val_acc: 0.8147\n",
      "Epoch 22/35\n",
      " - 7s - loss: 0.5555 - acc: 0.8033 - val_loss: 0.5612 - val_acc: 0.8147\n",
      "Epoch 23/35\n",
      " - 7s - loss: 0.5403 - acc: 0.8117 - val_loss: 0.4803 - val_acc: 0.8463\n",
      "Epoch 24/35\n",
      " - 7s - loss: 0.5342 - acc: 0.8147 - val_loss: 0.5197 - val_acc: 0.8316\n",
      "Epoch 25/35\n",
      " - 7s - loss: 0.5045 - acc: 0.8255 - val_loss: 0.5223 - val_acc: 0.8358\n",
      "Epoch 26/35\n",
      " - 7s - loss: 0.5079 - acc: 0.8201 - val_loss: 0.6489 - val_acc: 0.7937\n",
      "Epoch 27/35\n",
      " - 7s - loss: 0.4943 - acc: 0.8236 - val_loss: 0.4621 - val_acc: 0.8400\n",
      "Epoch 28/35\n",
      " - 7s - loss: 0.4587 - acc: 0.8398 - val_loss: 0.5085 - val_acc: 0.8358\n",
      "Epoch 29/35\n",
      " - 7s - loss: 0.4820 - acc: 0.8262 - val_loss: 0.4424 - val_acc: 0.8632\n",
      "Epoch 30/35\n",
      " - 7s - loss: 0.4581 - acc: 0.8386 - val_loss: 0.5260 - val_acc: 0.8168\n",
      "Epoch 31/35\n",
      " - 7s - loss: 0.4656 - acc: 0.8409 - val_loss: 0.5414 - val_acc: 0.8232\n",
      "Epoch 32/35\n",
      " - 7s - loss: 0.4536 - acc: 0.8339 - val_loss: 0.4944 - val_acc: 0.8316\n",
      "Epoch 33/35\n",
      " - 7s - loss: 0.4166 - acc: 0.8529 - val_loss: 0.5335 - val_acc: 0.8295\n",
      "Epoch 34/35\n",
      " - 7s - loss: 0.4199 - acc: 0.8480 - val_loss: 0.4561 - val_acc: 0.8505\n",
      "Epoch 35/35\n",
      " - 7s - loss: 0.4300 - acc: 0.8491 - val_loss: 0.3938 - val_acc: 0.8716\n",
      "259.6153070926666  seconds\n",
      "Baseline Error: 12.84%\n"
     ]
    }
   ],
   "source": [
    "t0=time.time()\n",
    "history_A = model_A.fit_generator(datagen.flow(trainX, trainY, batch_size=75), epochs=35, validation_data=(testX, testY), verbose=2)\n",
    "t1=time.time()\n",
    "print(t1-t0,\" seconds\")\n",
    "\n",
    "# Final evaluation of the model\n",
    "scores = model_A.evaluate(testX, testY, verbose=0)\n",
    "print(\"Baseline Error: %.2f%%\" % (100-scores[1]*100))"
   ]
  },
  {
   "cell_type": "markdown",
   "metadata": {
    "colab_type": "text",
    "id": "r5WXsbO6AL3y"
   },
   "source": [
    "### Accuracy Scores for model_A"
   ]
  },
  {
   "cell_type": "code",
   "execution_count": 45,
   "metadata": {
    "colab": {
     "base_uri": "https://localhost:8080/",
     "height": 84
    },
    "colab_type": "code",
    "id": "vCWJCqIbaJuU",
    "outputId": "f4d6a998-e79e-4a41-d54f-161a55fc3ce6"
   },
   "outputs": [
    {
     "name": "stdout",
     "output_type": "stream",
     "text": [
      "4275/4275 [==============================] - 1s 276us/step\n",
      "[0.337275075117747, 0.883508772055308]\n",
      "475/475 [==============================] - 0s 275us/step\n",
      "[0.3938442005609211, 0.8715789468664872]\n"
     ]
    }
   ],
   "source": [
    "print(model_A.evaluate(trainX, trainY))  # Evaluate on train set\n",
    "print(model_A.evaluate(testX, testY))  # Evaluate on test set"
   ]
  },
  {
   "cell_type": "markdown",
   "metadata": {
    "colab_type": "text",
    "id": "3aAurkfEAVoV"
   },
   "source": [
    "### Plots for model_A"
   ]
  },
  {
   "cell_type": "code",
   "execution_count": 46,
   "metadata": {
    "colab": {
     "base_uri": "https://localhost:8080/",
     "height": 280
    },
    "colab_type": "code",
    "id": "GjXGGbhnaJ8G",
    "outputId": "9db24154-2a4f-4f9c-ea30-6b96fb65f994"
   },
   "outputs": [
    {
     "data": {
      "image/png": "[encoded data removed]",
      "text/plain": [
       "<matplotlib.figure.Figure at 0x7f9be69a79e8>"
      ]
     },
     "metadata": {
      "tags": []
     },
     "output_type": "display_data"
    }
   ],
   "source": [
    "# plot training accuracies\n",
    "plt.plot(history_A.history['acc'],'b') #train acc\n",
    "plt.plot(history_A.history['val_acc'],'g') #val acc\n",
    "plt.title('Training and Validation Accuracy model_A') \n",
    "plt.show()"
   ]
  },
  {
   "cell_type": "code",
   "execution_count": 47,
   "metadata": {
    "colab": {
     "base_uri": "https://localhost:8080/",
     "height": 280
    },
    "colab_type": "code",
    "id": "RbXphJhecPjj",
    "outputId": "f1e93cc8-931f-4834-f5b5-11844884a92e"
   },
   "outputs": [
    {
     "data": {
      "image/png": "[encoded data removed]",
      "text/plain": [
       "<matplotlib.figure.Figure at 0x7f9be0537c18>"
      ]
     },
     "metadata": {
      "tags": []
     },
     "output_type": "display_data"
    }
   ],
   "source": [
    "# plot training and validation loss\n",
    "plt.plot(history_A.history['loss'],'b') #train loss\n",
    "plt.plot(history_A.history['val_loss'],'g') #val loss\n",
    "plt.title('Training and Validation loss model_A') \n",
    "plt.show()"
   ]
  },
  {
   "cell_type": "markdown",
   "metadata": {
    "colab_type": "text",
    "id": "PgPMzl4LbjEC"
   },
   "source": [
    "The results of  model_A are a validation accuracy of 87% and an error rate of 13%.  The training and validation accuracies and losses converge nicely and there seems to be no overfitting."
   ]
  },
  {
   "cell_type": "markdown",
   "metadata": {
    "colab_type": "text",
    "id": "9lcIZLghYbNN"
   },
   "source": [
    "## model_B - My model"
   ]
  },
  {
   "cell_type": "markdown",
   "metadata": {
    "colab_type": "text",
    "id": "FIbvNzMWqlkq"
   },
   "source": [
    "The following model was designed using code from several sources such as Chollett (2018), NikKonst (2018), and  Kazachok (2018).  I tried several configurations, parameters, etc and settled on the configuration below.  My model consists of 5 conv layers followed by max pooling layers,  and 2 dense layers.  I tried adding batch normalization and dropout layers, but this did not improve performance."
   ]
  },
  {
   "cell_type": "code",
   "execution_count": 17,
   "metadata": {
    "colab": {
     "base_uri": "https://localhost:8080/",
     "height": 538
    },
    "colab_type": "code",
    "id": "lJhOFpTyZVpX",
    "outputId": "b90b1755-f94f-44f8-8980-b958da47cea8"
   },
   "outputs": [
    {
     "name": "stdout",
     "output_type": "stream",
     "text": [
      "_________________________________________________________________\n",
      "Layer (type)                 Output Shape              Param #   \n",
      "=================================================================\n",
      "conv2d_1 (Conv2D)            (None, 71, 71, 80)        2240      \n",
      "_________________________________________________________________\n",
      "max_pooling2d_1 (MaxPooling2 (None, 35, 35, 80)        0         \n",
      "_________________________________________________________________\n",
      "conv2d_2 (Conv2D)            (None, 33, 33, 80)        57680     \n",
      "_________________________________________________________________\n",
      "max_pooling2d_2 (MaxPooling2 (None, 16, 16, 80)        0         \n",
      "_________________________________________________________________\n",
      "conv2d_3 (Conv2D)            (None, 14, 14, 160)       115360    \n",
      "_________________________________________________________________\n",
      "max_pooling2d_3 (MaxPooling2 (None, 7, 7, 160)         0         \n",
      "_________________________________________________________________\n",
      "conv2d_4 (Conv2D)            (None, 5, 5, 160)         230560    \n",
      "_________________________________________________________________\n",
      "conv2d_5 (Conv2D)            (None, 3, 3, 240)         345840    \n",
      "_________________________________________________________________\n",
      "max_pooling2d_4 (MaxPooling2 (None, 1, 1, 240)         0         \n",
      "_________________________________________________________________\n",
      "flatten_1 (Flatten)          (None, 240)               0         \n",
      "_________________________________________________________________\n",
      "dense_1 (Dense)              (None, 128)               30848     \n",
      "_________________________________________________________________\n",
      "dense_2 (Dense)              (None, 12)                1548      \n",
      "=================================================================\n",
      "Total params: 784,076\n",
      "Trainable params: 784,076\n",
      "Non-trainable params: 0\n",
      "_________________________________________________________________\n"
     ]
    }
   ],
   "source": [
    "model = Sequential() \n",
    "model.add(layers.Conv2D(80, (3, 3), activation='relu', input_shape=(scaleTo, scaleTo, 3), padding='same')) \n",
    "model.add(layers.MaxPooling2D((2, 2))) # to downsample the feature maps\n",
    "\n",
    "model.add(layers.Conv2D(80, (3, 3), activation='relu'))\n",
    "# model.add(BatchNormalization()) # normalize inputs, training converges faster, no help in this model\n",
    "model.add(layers.MaxPooling2D((2, 2))) \n",
    "# model.add(Dropout(0.2)) # makes model smaller, reduces overfitting. No improvement seen with this.\n",
    "\n",
    "model.add(layers.Conv2D(160, (3, 3), activation='relu'))\n",
    "model.add(layers.MaxPooling2D((2, 2)))\n",
    "\n",
    "model.add(layers.Conv2D(160, (3, 3), activation='relu'))\n",
    "# model.add(BatchNormalization())\n",
    "\n",
    "model.add(layers.Conv2D(240, (3, 3), activation='relu'))\n",
    "model.add(layers.MaxPooling2D((2, 2))) \n",
    "# model.add(Dropout(0.5))\n",
    "\n",
    "model.add(layers.Flatten()) \n",
    "model.add(layers.Dense(128, activation='relu'))\n",
    "# model.add(layers.Dense(75, activation='relu'))\n",
    "model.add(layers.Dense(num_clases, activation='softmax'))\n",
    "\n",
    "# adam = optimizers.Adam(lr=0.0001) I tried this learning rate but it did not improve performance\n",
    "model.compile(loss='categorical_crossentropy', optimizer='adam', metrics=['accuracy'])\n",
    "\n",
    "model_B = model\n",
    "model_B.summary()"
   ]
  },
  {
   "cell_type": "code",
   "execution_count": 19,
   "metadata": {
    "colab": {
     "base_uri": "https://localhost:8080/",
     "height": 1714
    },
    "colab_type": "code",
    "id": "HhGyDIM-u43_",
    "outputId": "f26d2dc9-0dee-4032-87ea-fd8929099a88"
   },
   "outputs": [
    {
     "name": "stdout",
     "output_type": "stream",
     "text": [
      "Epoch 1/50\n",
      " - 7s - loss: 1.3603 - acc: 0.5172 - val_loss: 1.2090 - val_acc: 0.5684\n",
      "Epoch 2/50\n",
      " - 7s - loss: 1.2544 - acc: 0.5520 - val_loss: 1.0756 - val_acc: 0.6295\n",
      "Epoch 3/50\n",
      " - 7s - loss: 1.1049 - acc: 0.6204 - val_loss: 1.0137 - val_acc: 0.6505\n",
      "Epoch 4/50\n",
      " - 7s - loss: 0.9571 - acc: 0.6725 - val_loss: 0.8918 - val_acc: 0.7011\n",
      "Epoch 5/50\n",
      " - 7s - loss: 0.8621 - acc: 0.7062 - val_loss: 0.7703 - val_acc: 0.7600\n",
      "Epoch 6/50\n",
      " - 7s - loss: 0.7841 - acc: 0.7310 - val_loss: 0.8004 - val_acc: 0.7411\n",
      "Epoch 7/50\n",
      " - 7s - loss: 0.7372 - acc: 0.7530 - val_loss: 0.7428 - val_acc: 0.7453\n",
      "Epoch 8/50\n",
      " - 7s - loss: 0.6845 - acc: 0.7649 - val_loss: 0.6943 - val_acc: 0.7642\n",
      "Epoch 9/50\n",
      " - 7s - loss: 0.6173 - acc: 0.7876 - val_loss: 0.6331 - val_acc: 0.8021\n",
      "Epoch 10/50\n",
      " - 7s - loss: 0.5845 - acc: 0.7998 - val_loss: 0.6888 - val_acc: 0.7811\n",
      "Epoch 11/50\n",
      " - 7s - loss: 0.5800 - acc: 0.7956 - val_loss: 0.5924 - val_acc: 0.8042\n",
      "Epoch 12/50\n",
      " - 7s - loss: 0.5407 - acc: 0.8021 - val_loss: 0.6507 - val_acc: 0.8042\n",
      "Epoch 13/50\n",
      " - 7s - loss: 0.5533 - acc: 0.8080 - val_loss: 0.5558 - val_acc: 0.8126\n",
      "Epoch 14/50\n",
      " - 7s - loss: 0.4989 - acc: 0.8234 - val_loss: 0.5214 - val_acc: 0.8063\n",
      "Epoch 15/50\n",
      " - 7s - loss: 0.5027 - acc: 0.8222 - val_loss: 0.6452 - val_acc: 0.8000\n",
      "Epoch 16/50\n",
      " - 7s - loss: 0.4873 - acc: 0.8262 - val_loss: 0.5588 - val_acc: 0.8189\n",
      "Epoch 17/50\n",
      " - 7s - loss: 0.4975 - acc: 0.8227 - val_loss: 0.4613 - val_acc: 0.8358\n",
      "Epoch 18/50\n",
      " - 7s - loss: 0.4745 - acc: 0.8281 - val_loss: 0.5287 - val_acc: 0.8147\n",
      "Epoch 19/50\n",
      " - 7s - loss: 0.4294 - acc: 0.8468 - val_loss: 0.4513 - val_acc: 0.8568\n",
      "Epoch 20/50\n",
      " - 7s - loss: 0.4259 - acc: 0.8503 - val_loss: 0.4742 - val_acc: 0.8400\n",
      "Epoch 21/50\n",
      " - 7s - loss: 0.4308 - acc: 0.8487 - val_loss: 0.5345 - val_acc: 0.8274\n",
      "Epoch 22/50\n",
      " - 7s - loss: 0.4315 - acc: 0.8430 - val_loss: 0.4363 - val_acc: 0.8463\n",
      "Epoch 23/50\n",
      " - 7s - loss: 0.4083 - acc: 0.8494 - val_loss: 0.6160 - val_acc: 0.7979\n",
      "Epoch 24/50\n",
      " - 7s - loss: 0.4023 - acc: 0.8487 - val_loss: 0.4319 - val_acc: 0.8674\n",
      "Epoch 25/50\n",
      " - 7s - loss: 0.4069 - acc: 0.8494 - val_loss: 0.4070 - val_acc: 0.8547\n",
      "Epoch 26/50\n",
      " - 7s - loss: 0.3624 - acc: 0.8702 - val_loss: 0.5013 - val_acc: 0.8316\n",
      "Epoch 27/50\n",
      " - 7s - loss: 0.3497 - acc: 0.8735 - val_loss: 0.4377 - val_acc: 0.8484\n",
      "Epoch 28/50\n",
      " - 7s - loss: 0.3551 - acc: 0.8720 - val_loss: 0.4681 - val_acc: 0.8484\n",
      "Epoch 29/50\n",
      " - 7s - loss: 0.3606 - acc: 0.8669 - val_loss: 0.4188 - val_acc: 0.8611\n",
      "Epoch 30/50\n",
      " - 7s - loss: 0.3436 - acc: 0.8735 - val_loss: 0.4168 - val_acc: 0.8568\n",
      "Epoch 31/50\n",
      " - 7s - loss: 0.3414 - acc: 0.8749 - val_loss: 0.4167 - val_acc: 0.8632\n",
      "Epoch 32/50\n",
      " - 7s - loss: 0.3554 - acc: 0.8695 - val_loss: 0.5189 - val_acc: 0.8274\n",
      "Epoch 33/50\n",
      " - 7s - loss: 0.3303 - acc: 0.8777 - val_loss: 0.3806 - val_acc: 0.8800\n",
      "Epoch 34/50\n",
      " - 7s - loss: 0.3170 - acc: 0.8819 - val_loss: 0.4214 - val_acc: 0.8547\n",
      "Epoch 35/50\n",
      " - 7s - loss: 0.3037 - acc: 0.8844 - val_loss: 0.3981 - val_acc: 0.8737\n",
      "Epoch 36/50\n",
      " - 8s - loss: 0.3580 - acc: 0.8655 - val_loss: 0.3934 - val_acc: 0.8653\n",
      "Epoch 37/50\n",
      " - 8s - loss: 0.2978 - acc: 0.8884 - val_loss: 0.4254 - val_acc: 0.8547\n",
      "Epoch 38/50\n",
      " - 7s - loss: 0.3078 - acc: 0.8868 - val_loss: 0.4160 - val_acc: 0.8568\n",
      "Epoch 39/50\n",
      " - 7s - loss: 0.2958 - acc: 0.8940 - val_loss: 0.3698 - val_acc: 0.8737\n",
      "Epoch 40/50\n",
      " - 7s - loss: 0.2817 - acc: 0.8938 - val_loss: 0.3655 - val_acc: 0.8695\n",
      "Epoch 41/50\n",
      " - 7s - loss: 0.3206 - acc: 0.8788 - val_loss: 0.3930 - val_acc: 0.8716\n",
      "Epoch 42/50\n",
      " - 7s - loss: 0.3003 - acc: 0.8905 - val_loss: 0.3588 - val_acc: 0.8800\n",
      "Epoch 43/50\n",
      " - 7s - loss: 0.2728 - acc: 0.8989 - val_loss: 0.3307 - val_acc: 0.8905\n",
      "Epoch 44/50\n",
      " - 7s - loss: 0.2676 - acc: 0.8950 - val_loss: 0.3343 - val_acc: 0.8842\n",
      "Epoch 45/50\n",
      " - 7s - loss: 0.2770 - acc: 0.8975 - val_loss: 0.3764 - val_acc: 0.8505\n",
      "Epoch 46/50\n",
      " - 7s - loss: 0.2629 - acc: 0.9020 - val_loss: 0.3266 - val_acc: 0.8884\n",
      "Epoch 47/50\n",
      " - 7s - loss: 0.2726 - acc: 0.8950 - val_loss: 0.3817 - val_acc: 0.8737\n",
      "Epoch 48/50\n",
      " - 7s - loss: 0.2733 - acc: 0.8947 - val_loss: 0.3325 - val_acc: 0.8926\n",
      "Epoch 49/50\n",
      " - 7s - loss: 0.2499 - acc: 0.9025 - val_loss: 0.3324 - val_acc: 0.8737\n",
      "Epoch 50/50\n",
      " - 7s - loss: 0.2527 - acc: 0.9055 - val_loss: 0.3906 - val_acc: 0.8653\n",
      "355.3141679763794  seconds\n"
     ]
    }
   ],
   "source": [
    "t0=time.time()\n",
    "history_B = model_B.fit_generator(datagen.flow(trainX, trainY, batch_size=75), epochs=50, validation_data=(testX, testY), verbose=2)\n",
    "t1=time.time()\n",
    "print(t1-t0,\" seconds\")"
   ]
  },
  {
   "cell_type": "markdown",
   "metadata": {
    "colab_type": "text",
    "id": "Xpc_Qbv3Epcc"
   },
   "source": [
    "### Loss and Accuracy for model_B"
   ]
  },
  {
   "cell_type": "code",
   "execution_count": 20,
   "metadata": {
    "colab": {
     "base_uri": "https://localhost:8080/",
     "height": 34
    },
    "colab_type": "code",
    "id": "PkM2mhKOh_cL",
    "outputId": "d7644e32-88d2-49e1-b433-bb870c50a83f"
   },
   "outputs": [
    {
     "name": "stdout",
     "output_type": "stream",
     "text": [
      "Baseline Error: 13.47%\n"
     ]
    }
   ],
   "source": [
    "# Final evaluation of the model\n",
    "scores = model_B.evaluate(testX, testY, verbose=0)\n",
    "print(\"Baseline Error: %.2f%%\" % (100-scores[1]*100))"
   ]
  },
  {
   "cell_type": "code",
   "execution_count": 21,
   "metadata": {
    "colab": {
     "base_uri": "https://localhost:8080/",
     "height": 84
    },
    "colab_type": "code",
    "id": "9qVGPwwViBfK",
    "outputId": "2f90181a-308f-4b82-cfc9-6160c98e5ce5"
   },
   "outputs": [
    {
     "name": "stdout",
     "output_type": "stream",
     "text": [
      "4275/4275 [==============================] - 2s 413us/step\n",
      "[0.2894295614365249, 0.8872514621137876]\n",
      "475/475 [==============================] - 0s 406us/step\n",
      "[0.3905953272392875, 0.8652631582711873]\n"
     ]
    }
   ],
   "source": [
    "print(model_B.evaluate(trainX, trainY))  # Evaluate on train set\n",
    "print(model_B.evaluate(testX, testY))  # Evaluate on test set"
   ]
  },
  {
   "cell_type": "markdown",
   "metadata": {
    "colab_type": "text",
    "id": "WXmnUkQ_Ef0u"
   },
   "source": [
    "### Plots for model_B"
   ]
  },
  {
   "cell_type": "code",
   "execution_count": 22,
   "metadata": {
    "colab": {
     "base_uri": "https://localhost:8080/",
     "height": 280
    },
    "colab_type": "code",
    "id": "rgVWhLIDiBfN",
    "outputId": "3915ee1c-59d2-413d-a406-a55c9abf9658"
   },
   "outputs": [
    {
     "data": {
      "image/png": "[encoded data removed]",
      "text/plain": [
       "<matplotlib.figure.Figure at 0x7f8902a87cf8>"
      ]
     },
     "metadata": {
      "tags": []
     },
     "output_type": "display_data"
    }
   ],
   "source": [
    "# plot training accuracies\n",
    "plt.plot(history_B.history['acc'],'b') #train acc\n",
    "plt.plot(history_B.history['val_acc'],'g') #val acc\n",
    "plt.title('Training and Validation Accuracy') \n",
    "plt.show()"
   ]
  },
  {
   "cell_type": "code",
   "execution_count": 23,
   "metadata": {
    "colab": {
     "base_uri": "https://localhost:8080/",
     "height": 280
    },
    "colab_type": "code",
    "id": "aTFnwYeIiBfQ",
    "outputId": "1fe1c50d-65b0-482a-ff7d-754141885d89"
   },
   "outputs": [
    {
     "data": {
      "image/png": "[encoded data removed]",
      "text/plain": [
       "<matplotlib.figure.Figure at 0x7f890758b748>"
      ]
     },
     "metadata": {
      "tags": []
     },
     "output_type": "display_data"
    }
   ],
   "source": [
    "# plot training and validation loss\n",
    "plt.plot(history_B.history['loss'],'b') #train loss\n",
    "plt.plot(history_B.history['val_loss'],'g') #val loss\n",
    "plt.title('Training and Validation loss') \n",
    "plt.show()"
   ]
  },
  {
   "cell_type": "markdown",
   "metadata": {
    "colab_type": "text",
    "id": "QqTGbV1hrQMo"
   },
   "source": [
    "The results of my model include a baseline error rate of 13% , a validation accuracy of 87% with very little overfitting.  The performance of my model was worse with batch normalization and dropout layers, resulting in an error rate of 18% and a validation accuracy of 82%.  These layers also increased overfitting in the plots.  The batch normalization and dropout layers were commented out in the final version."
   ]
  },
  {
   "cell_type": "markdown",
   "metadata": {
    "colab_type": "text",
    "id": "-6_8Fllnfvjm"
   },
   "source": [
    "## Class Functional API Inception 1 and 2 models"
   ]
  },
  {
   "cell_type": "markdown",
   "metadata": {
    "colab_type": "text",
    "id": "JwzHXectrgbm"
   },
   "source": [
    "Experimentation was done using the functional API models from my deep learning class (Kim, 2018).  The \"inception1\" and \"inception2\" functions were used to build functional API Model1 and Model2.  Each Model was then tested on the seedling data."
   ]
  },
  {
   "cell_type": "code",
   "execution_count": 0,
   "metadata": {
    "colab": {},
    "colab_type": "code",
    "id": "xkMpDuJ93T9n"
   },
   "outputs": [],
   "source": [
    "# The following code was taken from my Deep Learning course by Kim, (2018)\n",
    "# Hint: use the Concatenate as in the import layers above\n",
    "# Hint: MaxPoolng2D needs 1x1 strides and same padding to match the spatial dimension\n",
    "\n",
    "def inception1(x, n = 32):\n",
    "    p1 = Conv2D(n, 1, activation ='relu', padding='same')(x)\n",
    "    p2 = Conv2D(n, 3, activation ='relu', padding='same')(x)\n",
    "    p3 = Conv2D(n, 5, activation ='relu', padding='same')(x)\n",
    "    p4 = MaxPooling2D((3,3), strides=(1, 1), padding='same')(x)\n",
    "    c =  Concatenate(axis=-1)([p1,p2,p3,p4])\n",
    "    return c"
   ]
  },
  {
   "cell_type": "code",
   "execution_count": 55,
   "metadata": {
    "colab": {
     "base_uri": "https://localhost:8080/",
     "height": 34
    },
    "colab_type": "code",
    "id": "0pHWef-ddiRs",
    "outputId": "46abf51f-1435-403e-94b9-2410d919c7f5"
   },
   "outputs": [
    {
     "data": {
      "text/plain": [
       "(4275, 71, 71, 3)"
      ]
     },
     "execution_count": 55,
     "metadata": {
      "tags": []
     },
     "output_type": "execute_result"
    }
   ],
   "source": [
    "trainX.shape"
   ]
  },
  {
   "cell_type": "code",
   "execution_count": 0,
   "metadata": {
    "colab": {},
    "colab_type": "code",
    "id": "uyYKMVx2gdp8"
   },
   "outputs": [],
   "source": [
    "x = Input(shape=(71,71,3))"
   ]
  },
  {
   "cell_type": "code",
   "execution_count": 0,
   "metadata": {
    "colab": {},
    "colab_type": "code",
    "id": "I2AOHSFk3T9q"
   },
   "outputs": [],
   "source": [
    "# The following code was taken from my Deep Learning course by Kim, (2018)\n",
    "def inception2(x, n = 32):\n",
    "    p1 = Conv2D(n, 1, activation ='relu', padding='same')(x)\n",
    "    p2 = Conv2D(n, 1, activation ='relu', padding='same')(x)\n",
    "    p2 = Conv2D(n, 3, activation ='relu', padding='same')(p2)\n",
    "    p3 = Conv2D(n, 1, activation ='relu', padding='same')(x)\n",
    "    p3 = Conv2D(n, 5, activation ='relu', padding='same')(p3)\n",
    "    p4 = MaxPooling2D((3,3), strides=(1, 1), padding='same')(x)\n",
    "    p4 = Conv2D(n, 1, activation ='relu', padding='same')(p4)\n",
    "    c =  Concatenate(axis=-1)([p1,p2,p3,p4])\n",
    "    return c"
   ]
  },
  {
   "cell_type": "markdown",
   "metadata": {
    "colab_type": "text",
    "id": "F6dKHR0LQ8eg"
   },
   "source": [
    "## API model1 "
   ]
  },
  {
   "cell_type": "markdown",
   "metadata": {
    "colab_type": "text",
    "id": "Ng5B1oORoBGe"
   },
   "source": [
    "Model1 from our homework assignment consist of  the \"inception1\" function repeated twice for 6 conv layers, maxpooling layers,  followed by 2 dense layers."
   ]
  },
  {
   "cell_type": "code",
   "execution_count": 0,
   "metadata": {
    "colab": {},
    "colab_type": "code",
    "id": "hyfrL04C3T9s"
   },
   "outputs": [],
   "source": [
    "## input-inception1-maxpool(2x2)-inception1-maxpool(2x2)-dense(128)-output\n",
    "\n",
    "def model1():\n",
    "    inputs = Input(trainX.shape[1:])\n",
    "    i1 = inception1(inputs)\n",
    "    mp1 = MaxPooling2D((2,2))(i1)\n",
    "    i2 = inception1(mp1)\n",
    "    mp2 = MaxPooling2D((2,2))(i2) \n",
    "    f = Flatten()(mp2)\n",
    "    d = Dense(128, activation='relu')(f)\n",
    "    out = Dense(12, activation='softmax')(d)\n",
    "    model = Model(inputs, out)\n",
    "    return model"
   ]
  },
  {
   "cell_type": "code",
   "execution_count": 59,
   "metadata": {
    "colab": {
     "base_uri": "https://localhost:8080/",
     "height": 773
    },
    "colab_type": "code",
    "id": "Im0ZU0qe3T9v",
    "outputId": "d0924318-ad77-4750-ace0-1b4ad93c313d"
   },
   "outputs": [
    {
     "name": "stdout",
     "output_type": "stream",
     "text": [
      "__________________________________________________________________________________________________\n",
      "Layer (type)                    Output Shape         Param #     Connected to                     \n",
      "==================================================================================================\n",
      "input_2 (InputLayer)            (None, 71, 71, 3)    0                                            \n",
      "__________________________________________________________________________________________________\n",
      "conv2d_10 (Conv2D)              (None, 71, 71, 32)   128         input_2[0][0]                    \n",
      "__________________________________________________________________________________________________\n",
      "conv2d_11 (Conv2D)              (None, 71, 71, 32)   896         input_2[0][0]                    \n",
      "__________________________________________________________________________________________________\n",
      "conv2d_12 (Conv2D)              (None, 71, 71, 32)   2432        input_2[0][0]                    \n",
      "__________________________________________________________________________________________________\n",
      "max_pooling2d_9 (MaxPooling2D)  (None, 71, 71, 3)    0           input_2[0][0]                    \n",
      "__________________________________________________________________________________________________\n",
      "concatenate_1 (Concatenate)     (None, 71, 71, 99)   0           conv2d_10[0][0]                  \n",
      "                                                                 conv2d_11[0][0]                  \n",
      "                                                                 conv2d_12[0][0]                  \n",
      "                                                                 max_pooling2d_9[0][0]            \n",
      "__________________________________________________________________________________________________\n",
      "max_pooling2d_10 (MaxPooling2D) (None, 35, 35, 99)   0           concatenate_1[0][0]              \n",
      "__________________________________________________________________________________________________\n",
      "conv2d_13 (Conv2D)              (None, 35, 35, 32)   3200        max_pooling2d_10[0][0]           \n",
      "__________________________________________________________________________________________________\n",
      "conv2d_14 (Conv2D)              (None, 35, 35, 32)   28544       max_pooling2d_10[0][0]           \n",
      "__________________________________________________________________________________________________\n",
      "conv2d_15 (Conv2D)              (None, 35, 35, 32)   79232       max_pooling2d_10[0][0]           \n",
      "__________________________________________________________________________________________________\n",
      "max_pooling2d_11 (MaxPooling2D) (None, 35, 35, 99)   0           max_pooling2d_10[0][0]           \n",
      "__________________________________________________________________________________________________\n",
      "concatenate_2 (Concatenate)     (None, 35, 35, 195)  0           conv2d_13[0][0]                  \n",
      "                                                                 conv2d_14[0][0]                  \n",
      "                                                                 conv2d_15[0][0]                  \n",
      "                                                                 max_pooling2d_11[0][0]           \n",
      "__________________________________________________________________________________________________\n",
      "max_pooling2d_12 (MaxPooling2D) (None, 17, 17, 195)  0           concatenate_2[0][0]              \n",
      "__________________________________________________________________________________________________\n",
      "flatten_3 (Flatten)             (None, 56355)        0           max_pooling2d_12[0][0]           \n",
      "__________________________________________________________________________________________________\n",
      "dense_5 (Dense)                 (None, 128)          7213568     flatten_3[0][0]                  \n",
      "__________________________________________________________________________________________________\n",
      "dense_6 (Dense)                 (None, 12)           1548        dense_5[0][0]                    \n",
      "==================================================================================================\n",
      "Total params: 7,329,548\n",
      "Trainable params: 7,329,548\n",
      "Non-trainable params: 0\n",
      "__________________________________________________________________________________________________\n"
     ]
    }
   ],
   "source": [
    "model1 = model1()\n",
    "model1.summary()"
   ]
  },
  {
   "cell_type": "code",
   "execution_count": 60,
   "metadata": {
    "colab": {
     "base_uri": "https://localhost:8080/",
     "height": 1477
    },
    "colab_type": "code",
    "id": "hqV0h39xc5NJ",
    "outputId": "8e8180da-f400-4cc2-c482-fcd7f83e6573"
   },
   "outputs": [
    {
     "name": "stdout",
     "output_type": "stream",
     "text": [
      "Epoch 1/35\n",
      " - 9s - loss: 1.9979 - acc: 0.3277 - val_loss: 1.5193 - val_acc: 0.4842\n",
      "Epoch 2/35\n",
      " - 8s - loss: 1.3920 - acc: 0.5226 - val_loss: 1.2821 - val_acc: 0.5579\n",
      "Epoch 3/35\n",
      " - 9s - loss: 1.1393 - acc: 0.6133 - val_loss: 1.0364 - val_acc: 0.6421\n",
      "Epoch 4/35\n",
      " - 9s - loss: 1.0329 - acc: 0.6508 - val_loss: 0.9930 - val_acc: 0.6232\n",
      "Epoch 5/35\n",
      " - 9s - loss: 0.9540 - acc: 0.6868 - val_loss: 0.9716 - val_acc: 0.6674\n",
      "Epoch 6/35\n",
      " - 9s - loss: 0.8762 - acc: 0.7055 - val_loss: 0.9184 - val_acc: 0.7053\n",
      "Epoch 7/35\n",
      " - 9s - loss: 0.8254 - acc: 0.7263 - val_loss: 0.9606 - val_acc: 0.6926\n",
      "Epoch 8/35\n",
      " - 9s - loss: 0.7740 - acc: 0.7462 - val_loss: 0.7906 - val_acc: 0.7221\n",
      "Epoch 9/35\n",
      " - 9s - loss: 0.7458 - acc: 0.7542 - val_loss: 1.0344 - val_acc: 0.6779\n",
      "Epoch 10/35\n",
      " - 9s - loss: 0.7303 - acc: 0.7537 - val_loss: 0.6238 - val_acc: 0.7726\n",
      "Epoch 11/35\n",
      " - 9s - loss: 0.6790 - acc: 0.7733 - val_loss: 0.7899 - val_acc: 0.7347\n",
      "Epoch 12/35\n",
      " - 9s - loss: 0.6455 - acc: 0.7857 - val_loss: 0.6729 - val_acc: 0.7537\n",
      "Epoch 13/35\n",
      " - 9s - loss: 0.6422 - acc: 0.7825 - val_loss: 0.7357 - val_acc: 0.7537\n",
      "Epoch 14/35\n",
      " - 9s - loss: 0.6103 - acc: 0.7935 - val_loss: 0.6760 - val_acc: 0.7621\n",
      "Epoch 15/35\n",
      " - 9s - loss: 0.6129 - acc: 0.7927 - val_loss: 0.7032 - val_acc: 0.7621\n",
      "Epoch 16/35\n",
      " - 9s - loss: 0.5749 - acc: 0.8014 - val_loss: 0.7498 - val_acc: 0.7389\n",
      "Epoch 17/35\n",
      " - 9s - loss: 0.5458 - acc: 0.8126 - val_loss: 0.6737 - val_acc: 0.7811\n",
      "Epoch 18/35\n",
      " - 9s - loss: 0.5707 - acc: 0.8028 - val_loss: 0.5483 - val_acc: 0.8084\n",
      "Epoch 19/35\n",
      " - 9s - loss: 0.5301 - acc: 0.8157 - val_loss: 0.5457 - val_acc: 0.8105\n",
      "Epoch 20/35\n",
      " - 9s - loss: 0.5073 - acc: 0.8302 - val_loss: 0.6225 - val_acc: 0.7916\n",
      "Epoch 21/35\n",
      " - 9s - loss: 0.4879 - acc: 0.8311 - val_loss: 0.5804 - val_acc: 0.8021\n",
      "Epoch 22/35\n",
      " - 9s - loss: 0.4816 - acc: 0.8365 - val_loss: 0.5811 - val_acc: 0.7979\n",
      "Epoch 23/35\n",
      " - 9s - loss: 0.4533 - acc: 0.8391 - val_loss: 0.6363 - val_acc: 0.7642\n",
      "Epoch 24/35\n",
      " - 9s - loss: 0.4714 - acc: 0.8346 - val_loss: 0.5613 - val_acc: 0.8126\n",
      "Epoch 25/35\n",
      " - 9s - loss: 0.4343 - acc: 0.8456 - val_loss: 0.6360 - val_acc: 0.7916\n",
      "Epoch 26/35\n",
      " - 9s - loss: 0.4396 - acc: 0.8454 - val_loss: 0.6330 - val_acc: 0.8000\n",
      "Epoch 27/35\n",
      " - 9s - loss: 0.4044 - acc: 0.8550 - val_loss: 0.5261 - val_acc: 0.8211\n",
      "Epoch 28/35\n",
      " - 9s - loss: 0.3977 - acc: 0.8573 - val_loss: 0.4652 - val_acc: 0.8358\n",
      "Epoch 29/35\n",
      " - 9s - loss: 0.3989 - acc: 0.8585 - val_loss: 0.4250 - val_acc: 0.8400\n",
      "Epoch 30/35\n",
      " - 9s - loss: 0.4052 - acc: 0.8557 - val_loss: 0.5978 - val_acc: 0.8000\n",
      "Epoch 31/35\n",
      " - 9s - loss: 0.3900 - acc: 0.8632 - val_loss: 0.5491 - val_acc: 0.8147\n",
      "Epoch 32/35\n",
      " - 9s - loss: 0.3902 - acc: 0.8625 - val_loss: 0.6363 - val_acc: 0.8042\n",
      "Epoch 33/35\n",
      " - 9s - loss: 0.3674 - acc: 0.8697 - val_loss: 0.6990 - val_acc: 0.7895\n",
      "Epoch 34/35\n",
      " - 9s - loss: 0.3591 - acc: 0.8706 - val_loss: 0.4253 - val_acc: 0.8547\n",
      "Epoch 35/35\n",
      " - 8s - loss: 0.3499 - acc: 0.8777 - val_loss: 0.5403 - val_acc: 0.8274\n",
      "301.2736210823059  seconds\n",
      "CNN Error: 17.26%\n"
     ]
    },
    {
     "data": {
      "image/png": "[encoded data removed]",
      "text/plain": [
       "<matplotlib.figure.Figure at 0x7f9be45c9128>"
      ]
     },
     "metadata": {
      "tags": []
     },
     "output_type": "display_data"
    }
   ],
   "source": [
    "adam = Adam(lr=0.001)\n",
    "model1.compile(loss= 'categorical_crossentropy' , optimizer= adam , metrics=[ 'accuracy' ])\n",
    "\n",
    "# Fit the model\n",
    "t0=time.time()\n",
    "log1 = model1.fit_generator(datagen.flow(trainX, trainY, batch_size=75), epochs=35, validation_data=(testX, testY), verbose=2)\n",
    "t1=time.time()\n",
    "print(t1-t0,\" seconds\")\n",
    "\n",
    "# Final evaluation of the model\n",
    "scores = model1.evaluate(testX, testY, verbose=0)\n",
    "print(\"CNN Error: %.2f%%\" % (100-scores[1]*100))\n",
    "\n",
    "import matplotlib.pyplot as plt\n",
    "%matplotlib inline\n",
    "plt.plot(log1.history['acc'],'b') \n",
    "plt.plot(log1.history['val_acc'],'r')\n",
    "plt.show()"
   ]
  },
  {
   "cell_type": "markdown",
   "metadata": {
    "colab_type": "text",
    "id": "B-EitpktHwpX"
   },
   "source": [
    "### Accuracy for model1"
   ]
  },
  {
   "cell_type": "code",
   "execution_count": 61,
   "metadata": {
    "colab": {
     "base_uri": "https://localhost:8080/",
     "height": 84
    },
    "colab_type": "code",
    "id": "wHP4cwRzUHMN",
    "outputId": "6ddc7dfc-e764-46ee-88bc-f00ed1c13b89"
   },
   "outputs": [
    {
     "name": "stdout",
     "output_type": "stream",
     "text": [
      "4275/4275 [==============================] - 2s 569us/step\n",
      "[0.38520202714797347, 0.8584795321498001]\n",
      "475/475 [==============================] - 0s 554us/step\n",
      "[0.5403480818397121, 0.8273684226839166]\n"
     ]
    }
   ],
   "source": [
    "print(model1.evaluate(trainX, trainY))  # Evaluate on train set\n",
    "print(model1.evaluate(testX, testY))  # Evaluate on test set"
   ]
  },
  {
   "cell_type": "markdown",
   "metadata": {
    "colab_type": "text",
    "id": "8-Htr5HnH15w"
   },
   "source": [
    "The baseline loss for Model1 is 17% and the validation accuracy is 83%.  There is also more overfitting.  This model did not perform as well as the first two models."
   ]
  },
  {
   "cell_type": "markdown",
   "metadata": {
    "colab_type": "text",
    "id": "fHWb7PHNRFAX"
   },
   "source": [
    "##  API model2 "
   ]
  },
  {
   "cell_type": "markdown",
   "metadata": {
    "colab_type": "text",
    "id": "1h5ESFd-om1w"
   },
   "source": [
    "Model2 was taken from the Deep Learning Class (Kim, 2018). It consists of the \"inception2\" function repeated twice for a total of 8 conv layers with maxpooling layers in between and 2 dense layers.  I also used the functions from class to iterate through various learning rates outside of the default parameters and number of epochs to find the best number for each of these parameters.  This process was done on the training accuracy."
   ]
  },
  {
   "cell_type": "code",
   "execution_count": 0,
   "metadata": {
    "colab": {},
    "colab_type": "code",
    "id": "S5zRW-Ay3T9y"
   },
   "outputs": [],
   "source": [
    "## input-inception2-maxpool(2x2)-inception2-maxpool(2x2)-dense(128)-output\n",
    "\n",
    "def model2():\n",
    "    inputs = Input(trainX.shape[1:])\n",
    "    i1 = inception2(inputs)\n",
    "    mp1 = MaxPooling2D((2,2))(i1)\n",
    "    i2 = inception2(mp1)\n",
    "    mp2 = MaxPooling2D((2,2))(i2) \n",
    "    f = Flatten()(mp2)\n",
    "    d = Dense(128, activation='relu')(f)\n",
    "    out = Dense(12, activation='softmax')(d)\n",
    "    model = Model(inputs, out)\n",
    "    return model\n",
    "  \n",
    "def train(model, lr=0.001, batch=75, epochs=20):\n",
    "    adam = optimizers.Adam(lr=lr) \n",
    "    model.compile(optimizer=adam, loss ='categorical_crossentropy', metrics=['accuracy'])\n",
    "    result = model.fit_generator(datagen.flow(trainX, trainY, batch_size=batch), epochs=epochs, validation_data=(testX, testY), verbose=0)\n",
    "\n",
    "    # result = model.fit(trainX, trainY, batch_size=batch, epochs=epochs, verbose=0)\n",
    "    return result.history"
   ]
  },
  {
   "cell_type": "code",
   "execution_count": 73,
   "metadata": {
    "colab": {
     "base_uri": "https://localhost:8080/",
     "height": 437
    },
    "colab_type": "code",
    "id": "ZJ6NF2oTc6Gp",
    "outputId": "7a05726f-8591-40a5-f374-49d771d9174f"
   },
   "outputs": [
    {
     "name": "stdout",
     "output_type": "stream",
     "text": [
      "10 0.1 15 0.060\n",
      "10 0.01 13 0.143\n",
      "10 0.001 17 0.891\n",
      "10 0.0001 18 0.819\n",
      "10 1e-05 19 0.657\n",
      "20 0.1 5 0.129\n",
      "20 0.01 17 0.685\n",
      "20 0.001 19 0.891\n",
      "20 0.0001 18 0.786\n",
      "20 1e-05 19 0.618\n",
      "50 0.1 16 0.100\n",
      "50 0.01 16 0.634\n",
      "50 0.001 19 0.881\n",
      "50 0.0001 18 0.759\n",
      "50 1e-05 19 0.568\n",
      "100 0.1 16 0.109\n",
      "100 0.01 18 0.719\n",
      "100 0.001 19 0.865\n",
      "100 0.0001 19 0.724\n",
      "100 1e-05 19 0.500\n",
      "200 0.1 16 0.129\n",
      "200 0.01 17 0.799\n",
      "200 0.001 19 0.843\n",
      "200 0.0001 19 0.698\n",
      "200 1e-05 19 0.441\n"
     ]
    }
   ],
   "source": [
    "for ep in [10,20,50,100,200]:\n",
    "    for lr in [0.1,0.01,0.001,0.0001,0.00001]:\n",
    "        model = model2()\n",
    "        res = train(model,lr,ep)\n",
    "        print(ep,lr,np.argmax(res['acc']),'{:.3f}'.format(max(res['acc'])))"
   ]
  },
  {
   "cell_type": "markdown",
   "metadata": {
    "colab_type": "text",
    "id": "ah4tSzKAF5e8"
   },
   "source": [
    "The output above shows that the learning rate of 0.001 had the best training performance.  The epochs with the highest training accuracy ranged from 10-20, with performance declining at 50 epochs.  I use 35 epochs to fit model2."
   ]
  },
  {
   "cell_type": "code",
   "execution_count": 0,
   "metadata": {
    "colab": {},
    "colab_type": "code",
    "id": "FQZj7WzyAiTk"
   },
   "outputs": [],
   "source": [
    "def model2():\n",
    "    inputs = Input(trainX.shape[1:])\n",
    "    i1 = inception2(inputs)\n",
    "    mp1 = MaxPooling2D((2,2))(i1)\n",
    "    i2 = inception2(mp1)\n",
    "    mp2 = MaxPooling2D((2,2))(i2) \n",
    "    f = Flatten()(mp2)\n",
    "    d = Dense(128, activation='relu')(f)\n",
    "    out = Dense(12, activation='softmax')(d)\n",
    "    model = Model(inputs, out)\n",
    "    return model"
   ]
  },
  {
   "cell_type": "code",
   "execution_count": 32,
   "metadata": {
    "colab": {
     "base_uri": "https://localhost:8080/",
     "height": 974
    },
    "colab_type": "code",
    "id": "F5i0d56TMv-V",
    "outputId": "33672793-be01-42b7-a02a-6e6552d2c13b"
   },
   "outputs": [
    {
     "name": "stdout",
     "output_type": "stream",
     "text": [
      "__________________________________________________________________________________________________\n",
      "Layer (type)                    Output Shape         Param #     Connected to                     \n",
      "==================================================================================================\n",
      "input_2 (InputLayer)            (None, 71, 71, 3)    0                                            \n",
      "__________________________________________________________________________________________________\n",
      "conv2d_13 (Conv2D)              (None, 71, 71, 32)   128         input_2[0][0]                    \n",
      "__________________________________________________________________________________________________\n",
      "conv2d_15 (Conv2D)              (None, 71, 71, 32)   128         input_2[0][0]                    \n",
      "__________________________________________________________________________________________________\n",
      "max_pooling2d_8 (MaxPooling2D)  (None, 71, 71, 3)    0           input_2[0][0]                    \n",
      "__________________________________________________________________________________________________\n",
      "conv2d_12 (Conv2D)              (None, 71, 71, 32)   128         input_2[0][0]                    \n",
      "__________________________________________________________________________________________________\n",
      "conv2d_14 (Conv2D)              (None, 71, 71, 32)   9248        conv2d_13[0][0]                  \n",
      "__________________________________________________________________________________________________\n",
      "conv2d_16 (Conv2D)              (None, 71, 71, 32)   25632       conv2d_15[0][0]                  \n",
      "__________________________________________________________________________________________________\n",
      "conv2d_17 (Conv2D)              (None, 71, 71, 32)   128         max_pooling2d_8[0][0]            \n",
      "__________________________________________________________________________________________________\n",
      "concatenate_1 (Concatenate)     (None, 71, 71, 128)  0           conv2d_12[0][0]                  \n",
      "                                                                 conv2d_14[0][0]                  \n",
      "                                                                 conv2d_16[0][0]                  \n",
      "                                                                 conv2d_17[0][0]                  \n",
      "__________________________________________________________________________________________________\n",
      "max_pooling2d_9 (MaxPooling2D)  (None, 35, 35, 128)  0           concatenate_1[0][0]              \n",
      "__________________________________________________________________________________________________\n",
      "conv2d_19 (Conv2D)              (None, 35, 35, 32)   4128        max_pooling2d_9[0][0]            \n",
      "__________________________________________________________________________________________________\n",
      "conv2d_21 (Conv2D)              (None, 35, 35, 32)   4128        max_pooling2d_9[0][0]            \n",
      "__________________________________________________________________________________________________\n",
      "max_pooling2d_10 (MaxPooling2D) (None, 35, 35, 128)  0           max_pooling2d_9[0][0]            \n",
      "__________________________________________________________________________________________________\n",
      "conv2d_18 (Conv2D)              (None, 35, 35, 32)   4128        max_pooling2d_9[0][0]            \n",
      "__________________________________________________________________________________________________\n",
      "conv2d_20 (Conv2D)              (None, 35, 35, 32)   9248        conv2d_19[0][0]                  \n",
      "__________________________________________________________________________________________________\n",
      "conv2d_22 (Conv2D)              (None, 35, 35, 32)   25632       conv2d_21[0][0]                  \n",
      "__________________________________________________________________________________________________\n",
      "conv2d_23 (Conv2D)              (None, 35, 35, 32)   4128        max_pooling2d_10[0][0]           \n",
      "__________________________________________________________________________________________________\n",
      "concatenate_2 (Concatenate)     (None, 35, 35, 128)  0           conv2d_18[0][0]                  \n",
      "                                                                 conv2d_20[0][0]                  \n",
      "                                                                 conv2d_22[0][0]                  \n",
      "                                                                 conv2d_23[0][0]                  \n",
      "__________________________________________________________________________________________________\n",
      "max_pooling2d_11 (MaxPooling2D) (None, 17, 17, 128)  0           concatenate_2[0][0]              \n",
      "__________________________________________________________________________________________________\n",
      "flatten_3 (Flatten)             (None, 36992)        0           max_pooling2d_11[0][0]           \n",
      "__________________________________________________________________________________________________\n",
      "dense_6 (Dense)                 (None, 128)          4735104     flatten_3[0][0]                  \n",
      "__________________________________________________________________________________________________\n",
      "dense_7 (Dense)                 (None, 12)           1548        dense_6[0][0]                    \n",
      "==================================================================================================\n",
      "Total params: 4,823,436\n",
      "Trainable params: 4,823,436\n",
      "Non-trainable params: 0\n",
      "__________________________________________________________________________________________________\n"
     ]
    }
   ],
   "source": [
    "model2 = model2()\n",
    "model2.summary()"
   ]
  },
  {
   "cell_type": "code",
   "execution_count": 33,
   "metadata": {
    "colab": {
     "base_uri": "https://localhost:8080/",
     "height": 1474
    },
    "colab_type": "code",
    "id": "guIF5Vu-c5qp",
    "outputId": "775b0b03-3323-41b4-f7c5-a58a2dcd1982"
   },
   "outputs": [
    {
     "name": "stdout",
     "output_type": "stream",
     "text": [
      "Epoch 1/35\n",
      " - 12s - loss: 1.8907 - acc: 0.3698 - val_loss: 1.2915 - val_acc: 0.5579\n",
      "Epoch 2/35\n",
      " - 10s - loss: 1.3069 - acc: 0.5654 - val_loss: 1.1522 - val_acc: 0.6189\n",
      "Epoch 3/35\n",
      " - 9s - loss: 1.0727 - acc: 0.6503 - val_loss: 1.0654 - val_acc: 0.6400\n",
      "Epoch 4/35\n",
      " - 9s - loss: 0.9719 - acc: 0.6830 - val_loss: 0.8194 - val_acc: 0.7263\n",
      "Epoch 5/35\n",
      " - 9s - loss: 0.8695 - acc: 0.7095 - val_loss: 0.6761 - val_acc: 0.7811\n",
      "Epoch 6/35\n",
      " - 9s - loss: 0.7717 - acc: 0.7450 - val_loss: 0.6487 - val_acc: 0.7811\n",
      "Epoch 7/35\n",
      " - 9s - loss: 0.7037 - acc: 0.7649 - val_loss: 0.6722 - val_acc: 0.7768\n",
      "Epoch 8/35\n",
      " - 9s - loss: 0.6900 - acc: 0.7705 - val_loss: 0.6275 - val_acc: 0.7768\n",
      "Epoch 9/35\n",
      " - 9s - loss: 0.6198 - acc: 0.7944 - val_loss: 0.6154 - val_acc: 0.8000\n",
      "Epoch 10/35\n",
      " - 9s - loss: 0.5860 - acc: 0.8058 - val_loss: 0.5732 - val_acc: 0.7979\n",
      "Epoch 11/35\n",
      " - 9s - loss: 0.5517 - acc: 0.8108 - val_loss: 0.4631 - val_acc: 0.8463\n",
      "Epoch 12/35\n",
      " - 9s - loss: 0.5335 - acc: 0.8150 - val_loss: 0.5210 - val_acc: 0.8168\n",
      "Epoch 13/35\n",
      " - 9s - loss: 0.4849 - acc: 0.8330 - val_loss: 0.4672 - val_acc: 0.8379\n",
      "Epoch 14/35\n",
      " - 9s - loss: 0.4796 - acc: 0.8363 - val_loss: 0.4539 - val_acc: 0.8442\n",
      "Epoch 15/35\n",
      " - 9s - loss: 0.4293 - acc: 0.8517 - val_loss: 0.4553 - val_acc: 0.8505\n",
      "Epoch 16/35\n",
      " - 9s - loss: 0.4556 - acc: 0.8407 - val_loss: 0.3858 - val_acc: 0.8695\n",
      "Epoch 17/35\n",
      " - 9s - loss: 0.4250 - acc: 0.8482 - val_loss: 0.4284 - val_acc: 0.8589\n",
      "Epoch 18/35\n",
      " - 9s - loss: 0.3813 - acc: 0.8699 - val_loss: 0.4421 - val_acc: 0.8295\n",
      "Epoch 19/35\n",
      " - 9s - loss: 0.3513 - acc: 0.8767 - val_loss: 0.3449 - val_acc: 0.8779\n",
      "Epoch 20/35\n",
      " - 9s - loss: 0.3577 - acc: 0.8704 - val_loss: 0.4088 - val_acc: 0.8611\n",
      "Epoch 21/35\n",
      " - 9s - loss: 0.3652 - acc: 0.8683 - val_loss: 0.3829 - val_acc: 0.8737\n",
      "Epoch 22/35\n",
      " - 9s - loss: 0.3291 - acc: 0.8828 - val_loss: 0.3724 - val_acc: 0.8653\n",
      "Epoch 23/35\n",
      " - 9s - loss: 0.3369 - acc: 0.8793 - val_loss: 0.4316 - val_acc: 0.8526\n",
      "Epoch 24/35\n",
      " - 9s - loss: 0.3099 - acc: 0.8863 - val_loss: 0.4351 - val_acc: 0.8400\n",
      "Epoch 25/35\n",
      " - 9s - loss: 0.3322 - acc: 0.8791 - val_loss: 0.3596 - val_acc: 0.8758\n",
      "Epoch 26/35\n",
      " - 9s - loss: 0.3082 - acc: 0.8880 - val_loss: 0.3590 - val_acc: 0.8653\n",
      "Epoch 27/35\n",
      " - 9s - loss: 0.2987 - acc: 0.8912 - val_loss: 0.3253 - val_acc: 0.8947\n",
      "Epoch 28/35\n",
      " - 9s - loss: 0.2824 - acc: 0.8987 - val_loss: 0.3453 - val_acc: 0.8884\n",
      "Epoch 29/35\n",
      " - 9s - loss: 0.2702 - acc: 0.9008 - val_loss: 0.3689 - val_acc: 0.8737\n",
      "Epoch 30/35\n",
      " - 9s - loss: 0.2692 - acc: 0.9001 - val_loss: 0.3542 - val_acc: 0.8695\n",
      "Epoch 31/35\n",
      " - 9s - loss: 0.2641 - acc: 0.9006 - val_loss: 0.3030 - val_acc: 0.8884\n",
      "Epoch 32/35\n",
      " - 9s - loss: 0.2670 - acc: 0.8987 - val_loss: 0.3524 - val_acc: 0.8779\n",
      "Epoch 33/35\n",
      " - 9s - loss: 0.2500 - acc: 0.9062 - val_loss: 0.3531 - val_acc: 0.8737\n",
      "Epoch 34/35\n",
      " - 9s - loss: 0.2670 - acc: 0.8987 - val_loss: 0.3261 - val_acc: 0.8758\n",
      "Epoch 35/35\n",
      " - 10s - loss: 0.2501 - acc: 0.9055 - val_loss: 0.3426 - val_acc: 0.8779\n",
      "330.15672612190247  seconds\n",
      "CNN Error: 12.21%\n"
     ]
    },
    {
     "data": {
      "image/png": "[encoded data removed]",
      "text/plain": [
       "<matplotlib.figure.Figure at 0x7f88f880fa20>"
      ]
     },
     "metadata": {
      "tags": []
     },
     "output_type": "display_data"
    }
   ],
   "source": [
    "# training and obtaining error rate for model2\n",
    "adam = Adam(lr=0.001)\n",
    "model2.compile(loss= 'categorical_crossentropy' , optimizer= adam , metrics=[ 'accuracy' ])\n",
    "\n",
    "# Fit the model\n",
    "t0=time.time()\n",
    "log2 = model2.fit_generator(datagen.flow(trainX, trainY, batch_size=75), epochs=35, validation_data=(testX, testY), verbose=2)\n",
    "t1=time.time()\n",
    "print(t1-t0,\" seconds\")\n",
    "\n",
    "# Final evaluation of the model\n",
    "scores2 = model2.evaluate(testX, testY, verbose=0)\n",
    "print(\"CNN Error: %.2f%%\" % (100-scores2[1]*100))\n",
    "\n",
    "import matplotlib.pyplot as plt\n",
    "%matplotlib inline\n",
    "plt.plot(log2.history['acc'],'b') \n",
    "plt.plot(log2.history['val_acc'],'r')\n",
    "plt.show()"
   ]
  },
  {
   "cell_type": "markdown",
   "metadata": {
    "colab_type": "text",
    "id": "gk_5Y2rvINxf"
   },
   "source": [
    "### Acurracy for model2"
   ]
  },
  {
   "cell_type": "code",
   "execution_count": 34,
   "metadata": {
    "colab": {
     "base_uri": "https://localhost:8080/",
     "height": 84
    },
    "colab_type": "code",
    "id": "H_lc7Rtfc53F",
    "outputId": "9c4e0cc8-8ba2-4c3b-ba60-715ad5a93b2a"
   },
   "outputs": [
    {
     "name": "stdout",
     "output_type": "stream",
     "text": [
      "4275/4275 [==============================] - 4s 831us/step\n",
      "[0.22417977211768167, 0.9148538012253611]\n",
      "475/475 [==============================] - 0s 787us/step\n",
      "[0.3425717953004335, 0.8778947384733903]\n"
     ]
    }
   ],
   "source": [
    "print(model2.evaluate(trainX, trainY))  # Evaluate on train set\n",
    "print(model2.evaluate(testX, testY))  # Evaluate on test set"
   ]
  },
  {
   "cell_type": "code",
   "execution_count": 35,
   "metadata": {
    "colab": {
     "base_uri": "https://localhost:8080/",
     "height": 265
    },
    "colab_type": "code",
    "id": "IyMjyK__AGmc",
    "outputId": "d279ec71-2a3e-465b-f5de-1f597eeb9af4"
   },
   "outputs": [
    {
     "data": {
      "image/png": "[encoded data removed]",
      "text/plain": [
       "<matplotlib.figure.Figure at 0x7f8901053160>"
      ]
     },
     "metadata": {
      "tags": []
     },
     "output_type": "display_data"
    }
   ],
   "source": [
    "plt.plot(log2.history['loss'],'b') \n",
    "plt.plot(log2.history['val_loss'],'r')\n",
    "plt.show()"
   ]
  },
  {
   "cell_type": "markdown",
   "metadata": {
    "colab_type": "text",
    "id": "SoteWfjsAbWd"
   },
   "source": [
    "Model2 has a loss rate of 12% and a validation accuracy of 88%.  The plots show little overfitting."
   ]
  },
  {
   "cell_type": "markdown",
   "metadata": {
    "colab_type": "text",
    "id": "DAL1u7DKqIEJ"
   },
   "source": [
    "## NikKonst (2018) Model"
   ]
  },
  {
   "cell_type": "markdown",
   "metadata": {
    "colab_type": "text",
    "id": "zmmzXEAWRXOk"
   },
   "source": [
    "The following model was develped by NikKonst (2018) and was found on the Kaggle website.  This model consisted of 6 conv layers and three fully-connected layers. His filters were [64,64, 128,128, 256,256].  Maxpool layers occurred after each pair of conv layers.  Batch normalization and dropout layers of were used.  This model took 7-8 hours to train."
   ]
  },
  {
   "cell_type": "code",
   "execution_count": 62,
   "metadata": {
    "colab": {
     "base_uri": "https://localhost:8080/",
     "height": 1008
    },
    "colab_type": "code",
    "id": "_PnyF-2amB-d",
    "outputId": "eb6509e5-e84f-43a9-8bf6-c062c8a32192"
   },
   "outputs": [
    {
     "name": "stdout",
     "output_type": "stream",
     "text": [
      "_________________________________________________________________\n",
      "Layer (type)                 Output Shape              Param #   \n",
      "=================================================================\n",
      "conv2d_24 (Conv2D)           (None, 67, 67, 64)        4864      \n",
      "_________________________________________________________________\n",
      "batch_normalization_9 (Batch (None, 67, 67, 64)        256       \n",
      "_________________________________________________________________\n",
      "conv2d_25 (Conv2D)           (None, 63, 63, 64)        102464    \n",
      "_________________________________________________________________\n",
      "max_pooling2d_12 (MaxPooling (None, 31, 31, 64)        0         \n",
      "_________________________________________________________________\n",
      "batch_normalization_10 (Batc (None, 31, 31, 64)        256       \n",
      "_________________________________________________________________\n",
      "dropout_6 (Dropout)          (None, 31, 31, 64)        0         \n",
      "_________________________________________________________________\n",
      "conv2d_26 (Conv2D)           (None, 27, 27, 128)       204928    \n",
      "_________________________________________________________________\n",
      "batch_normalization_11 (Batc (None, 27, 27, 128)       512       \n",
      "_________________________________________________________________\n",
      "conv2d_27 (Conv2D)           (None, 23, 23, 128)       409728    \n",
      "_________________________________________________________________\n",
      "max_pooling2d_13 (MaxPooling (None, 11, 11, 128)       0         \n",
      "_________________________________________________________________\n",
      "batch_normalization_12 (Batc (None, 11, 11, 128)       512       \n",
      "_________________________________________________________________\n",
      "dropout_7 (Dropout)          (None, 11, 11, 128)       0         \n",
      "_________________________________________________________________\n",
      "conv2d_28 (Conv2D)           (None, 7, 7, 256)         819456    \n",
      "_________________________________________________________________\n",
      "batch_normalization_13 (Batc (None, 7, 7, 256)         1024      \n",
      "_________________________________________________________________\n",
      "conv2d_29 (Conv2D)           (None, 3, 3, 256)         1638656   \n",
      "_________________________________________________________________\n",
      "max_pooling2d_14 (MaxPooling (None, 1, 1, 256)         0         \n",
      "_________________________________________________________________\n",
      "batch_normalization_14 (Batc (None, 1, 1, 256)         1024      \n",
      "_________________________________________________________________\n",
      "dropout_8 (Dropout)          (None, 1, 1, 256)         0         \n",
      "_________________________________________________________________\n",
      "flatten_4 (Flatten)          (None, 256)               0         \n",
      "_________________________________________________________________\n",
      "dense_8 (Dense)              (None, 256)               65792     \n",
      "_________________________________________________________________\n",
      "batch_normalization_15 (Batc (None, 256)               1024      \n",
      "_________________________________________________________________\n",
      "dropout_9 (Dropout)          (None, 256)               0         \n",
      "_________________________________________________________________\n",
      "dense_9 (Dense)              (None, 256)               65792     \n",
      "_________________________________________________________________\n",
      "batch_normalization_16 (Batc (None, 256)               1024      \n",
      "_________________________________________________________________\n",
      "dropout_10 (Dropout)         (None, 256)               0         \n",
      "_________________________________________________________________\n",
      "dense_10 (Dense)             (None, 12)                3084      \n",
      "=================================================================\n",
      "Total params: 3,320,396\n",
      "Trainable params: 3,317,580\n",
      "Non-trainable params: 2,816\n",
      "_________________________________________________________________\n"
     ]
    }
   ],
   "source": [
    "# this model taken from NikKonst (2018) at https://www.kaggle.com/nikkonst/plant-seedlings-with-cnn-and-image-processing\n",
    "\n",
    "model = Sequential()\n",
    "\n",
    "model.add(Conv2D(filters=64, kernel_size=(5, 5), input_shape=(scaleTo, scaleTo, 3), activation='relu'))\n",
    "model.add(BatchNormalization(axis=3))\n",
    "model.add(Conv2D(filters=64, kernel_size=(5, 5), activation='relu'))\n",
    "model.add(MaxPooling2D((2, 2)))\n",
    "model.add(BatchNormalization(axis=3))\n",
    "model.add(Dropout(0.1))\n",
    "\n",
    "model.add(Conv2D(filters=128, kernel_size=(5, 5), activation='relu'))\n",
    "model.add(BatchNormalization(axis=3))\n",
    "model.add(Conv2D(filters=128, kernel_size=(5, 5), activation='relu'))\n",
    "model.add(MaxPooling2D((2, 2)))\n",
    "model.add(BatchNormalization(axis=3))\n",
    "model.add(Dropout(0.1))\n",
    "\n",
    "model.add(Conv2D(filters=256, kernel_size=(5, 5), activation='relu'))\n",
    "model.add(BatchNormalization(axis=3))\n",
    "model.add(Conv2D(filters=256, kernel_size=(5, 5), activation='relu'))\n",
    "model.add(MaxPooling2D((2, 2)))\n",
    "model.add(BatchNormalization(axis=3))\n",
    "model.add(Dropout(0.1))\n",
    "\n",
    "model.add(Flatten())\n",
    "\n",
    "model.add(Dense(256, activation='relu'))\n",
    "model.add(BatchNormalization())\n",
    "model.add(Dropout(0.5))\n",
    "\n",
    "model.add(Dense(256, activation='relu'))\n",
    "model.add(BatchNormalization())\n",
    "model.add(Dropout(0.5))\n",
    "\n",
    "model.add(Dense(num_clases, activation='softmax'))\n",
    "# compile model\n",
    "model.compile(loss='categorical_crossentropy', optimizer='adam', metrics=['accuracy'])\n",
    "\n",
    "model_N = model\n",
    "model_N.summary()\n",
    "\n"
   ]
  },
  {
   "cell_type": "code",
   "execution_count": 63,
   "metadata": {
    "colab": {
     "base_uri": "https://localhost:8080/",
     "height": 1210
    },
    "colab_type": "code",
    "id": "VsZ7JxNsmCE4",
    "outputId": "83bce77a-5170-483c-8fb7-69488728b71d"
   },
   "outputs": [
    {
     "name": "stdout",
     "output_type": "stream",
     "text": [
      "Epoch 1/35\n",
      "4275/4275 [==============================] - 783s 183ms/step - loss: 0.5244 - acc: 0.8216 - val_loss: 0.4261 - val_acc: 0.8632\n",
      "Epoch 2/35\n",
      "4275/4275 [==============================] - 778s 182ms/step - loss: 0.1855 - acc: 0.9296 - val_loss: 0.2730 - val_acc: 0.9074\n",
      "Epoch 3/35\n",
      "4275/4275 [==============================] - 779s 182ms/step - loss: 0.1310 - acc: 0.9497 - val_loss: 0.2208 - val_acc: 0.9284\n",
      "Epoch 4/35\n",
      "4275/4275 [==============================] - 778s 182ms/step - loss: 0.1005 - acc: 0.9613 - val_loss: 0.3454 - val_acc: 0.9011\n",
      "Epoch 5/35\n",
      "4275/4275 [==============================] - 778s 182ms/step - loss: 0.0802 - acc: 0.9695 - val_loss: 0.3527 - val_acc: 0.9116\n",
      "Epoch 6/35\n",
      "4275/4275 [==============================] - 779s 182ms/step - loss: 0.0655 - acc: 0.9754 - val_loss: 0.3572 - val_acc: 0.9074\n",
      "Epoch 7/35\n",
      "4275/4275 [==============================] - 770s 180ms/step - loss: 0.0561 - acc: 0.9789 - val_loss: 0.2919 - val_acc: 0.9242\n",
      "Epoch 8/35\n",
      "4275/4275 [==============================] - 760s 178ms/step - loss: 0.0479 - acc: 0.9824 - val_loss: 0.3364 - val_acc: 0.9263\n",
      "Epoch 9/35\n",
      "4275/4275 [==============================] - 756s 177ms/step - loss: 0.0438 - acc: 0.9840 - val_loss: 0.4056 - val_acc: 0.9158\n",
      "Epoch 10/35\n",
      "4275/4275 [==============================] - 755s 177ms/step - loss: 0.0383 - acc: 0.9863 - val_loss: 0.3373 - val_acc: 0.9284\n",
      "Epoch 11/35\n",
      "4275/4275 [==============================] - 754s 176ms/step - loss: 0.0349 - acc: 0.9877 - val_loss: 0.7448 - val_acc: 0.8674\n",
      "Epoch 12/35\n",
      "4275/4275 [==============================] - 754s 176ms/step - loss: 0.0314 - acc: 0.9887 - val_loss: 0.3551 - val_acc: 0.9095\n",
      "Epoch 13/35\n",
      "4275/4275 [==============================] - 753s 176ms/step - loss: 0.0297 - acc: 0.9896 - val_loss: 0.4126 - val_acc: 0.9074\n",
      "Epoch 14/35\n",
      "4275/4275 [==============================] - 753s 176ms/step - loss: 0.0275 - acc: 0.9902 - val_loss: 0.3870 - val_acc: 0.8989\n",
      "Epoch 15/35\n",
      "4275/4275 [==============================] - 752s 176ms/step - loss: 0.0255 - acc: 0.9913 - val_loss: 0.4239 - val_acc: 0.9200\n",
      "Epoch 16/35\n",
      "4275/4275 [==============================] - 753s 176ms/step - loss: 0.0245 - acc: 0.9915 - val_loss: 0.4211 - val_acc: 0.9200\n",
      "Epoch 17/35\n",
      "4275/4275 [==============================] - 752s 176ms/step - loss: 0.0222 - acc: 0.9924 - val_loss: 0.4461 - val_acc: 0.9200\n",
      "Epoch 18/35\n",
      "4275/4275 [==============================] - 753s 176ms/step - loss: 0.0202 - acc: 0.9930 - val_loss: 0.3749 - val_acc: 0.9263\n",
      "Epoch 19/35\n",
      "4275/4275 [==============================] - 753s 176ms/step - loss: 0.0199 - acc: 0.9933 - val_loss: 0.4235 - val_acc: 0.9284\n",
      "Epoch 20/35\n",
      "4275/4275 [==============================] - 752s 176ms/step - loss: 0.0192 - acc: 0.9935 - val_loss: 0.3762 - val_acc: 0.9200\n",
      "Epoch 21/35\n",
      "4275/4275 [==============================] - 754s 176ms/step - loss: 0.0179 - acc: 0.9939 - val_loss: 0.3313 - val_acc: 0.9347\n",
      "Epoch 22/35\n",
      "4275/4275 [==============================] - 753s 176ms/step - loss: 0.0174 - acc: 0.9940 - val_loss: 0.4216 - val_acc: 0.9242\n",
      "Epoch 23/35\n",
      "4275/4275 [==============================] - 754s 176ms/step - loss: 0.0168 - acc: 0.9942 - val_loss: 0.3778 - val_acc: 0.9242\n",
      "Epoch 24/35\n",
      "4275/4275 [==============================] - 752s 176ms/step - loss: 0.0162 - acc: 0.9947 - val_loss: 0.4118 - val_acc: 0.9179\n",
      "Epoch 25/35\n",
      "4275/4275 [==============================] - 752s 176ms/step - loss: 0.0157 - acc: 0.9948 - val_loss: 0.4552 - val_acc: 0.9263\n",
      "Epoch 26/35\n",
      "4275/4275 [==============================] - 753s 176ms/step - loss: 0.0148 - acc: 0.9951 - val_loss: 0.3604 - val_acc: 0.9284\n",
      "Epoch 27/35\n",
      "4275/4275 [==============================] - 753s 176ms/step - loss: 0.0147 - acc: 0.9951 - val_loss: 0.4374 - val_acc: 0.9158\n",
      "Epoch 28/35\n",
      "4275/4275 [==============================] - 753s 176ms/step - loss: 0.0139 - acc: 0.9953 - val_loss: 0.5086 - val_acc: 0.9158\n",
      "Epoch 29/35\n",
      "4275/4275 [==============================] - 752s 176ms/step - loss: 0.0136 - acc: 0.9953 - val_loss: 0.4304 - val_acc: 0.9347\n",
      "Epoch 30/35\n",
      "4275/4275 [==============================] - 755s 177ms/step - loss: 0.0131 - acc: 0.9958 - val_loss: 0.5028 - val_acc: 0.9221\n",
      "Epoch 31/35\n",
      "4275/4275 [==============================] - 762s 178ms/step - loss: 0.0129 - acc: 0.9956 - val_loss: 0.3650 - val_acc: 0.9326\n",
      "Epoch 32/35\n",
      "4275/4275 [==============================] - 761s 178ms/step - loss: 0.0126 - acc: 0.9958 - val_loss: 0.4089 - val_acc: 0.9242\n",
      "Epoch 33/35\n",
      "4275/4275 [==============================] - 760s 178ms/step - loss: 0.0122 - acc: 0.9961 - val_loss: 0.4307 - val_acc: 0.9242\n",
      "Epoch 34/35\n",
      "4275/4275 [==============================] - 763s 178ms/step - loss: 0.0120 - acc: 0.9960 - val_loss: 0.5567 - val_acc: 0.9179\n",
      "Epoch 35/35\n",
      "4275/4275 [==============================] - 762s 178ms/step - loss: 0.0116 - acc: 0.9962 - val_loss: 0.4656 - val_acc: 0.9200\n",
      "26586.574796438217  seconds\n"
     ]
    }
   ],
   "source": [
    "# I ran the code for ReduceLROnPlateau earlier, but the run time was extremely long and I did not see much improvement in performance.\n",
    "# from keras.callbacks import ModelCheckpoint, ReduceLROnPlateau, CSVLogger\n",
    "\n",
    "# documentation for ReduceLROnPlateau at https://keras.io/callbacks/\n",
    "# learning rate reduction\n",
    "# learning_rate_reduction = ReduceLROnPlateau(monitor='val_acc', patience=3, verbose=1, factor=0.4, min_lr=0.00001) \n",
    "\n",
    "# checkpoints I did not try this for this project.\n",
    "# filepath=\"drive/My Drive/DLproject/seedlingsToColab/weights.best_{epoch:02d}-{val_acc:.2f}.hdf5\"\n",
    "# checkpoint = ModelCheckpoint(filepath, monitor='val_acc', \n",
    "#                              verbose=1, save_best_only=True, mode='max')\n",
    "# filepath=\"drive/My Drive/DLproject/seedlingsToColab/weights.last_auto4.hdf5\"\n",
    "# checkpoint_all = ModelCheckpoint(filepath, monitor='val_acc', \n",
    "#                                  verbose=1, save_best_only=False, mode='max')\n",
    "\n",
    "# all callbacks\n",
    "# callbacks_list = [checkpoint, learning_rate_reduction, checkpoint_all]\n",
    "# callbacks_list = [learning_rate_reduction ]\n",
    "\n",
    "# fit model\n",
    "t0=time.time()\n",
    "history_N = model_N.fit_generator(datagen.flow(trainX, trainY, batch_size=75), epochs=35, validation_data=(testX, testY), steps_per_epoch=trainX.shape[0])\n",
    "t1=time.time()\n",
    "print(t1-t0,\" seconds\")"
   ]
  },
  {
   "cell_type": "markdown",
   "metadata": {
    "colab_type": "text",
    "id": "PxeGFILDKQZL"
   },
   "source": [
    "### Loss and Accuracy for  model_N"
   ]
  },
  {
   "cell_type": "code",
   "execution_count": 64,
   "metadata": {
    "colab": {
     "base_uri": "https://localhost:8080/",
     "height": 34
    },
    "colab_type": "code",
    "id": "cAOdlrtqmCBx",
    "outputId": "d3164911-e453-4eba-aca2-22eb8ec3d088"
   },
   "outputs": [
    {
     "name": "stdout",
     "output_type": "stream",
     "text": [
      "Baseline Error: 8.00%\n"
     ]
    }
   ],
   "source": [
    "# Final evaluation of the model\n",
    "scores = model_N.evaluate(testX, testY, verbose=0)\n",
    "print(\"Baseline Error: %.2f%%\" % (100-scores[1]*100))\n"
   ]
  },
  {
   "cell_type": "code",
   "execution_count": 65,
   "metadata": {
    "colab": {
     "base_uri": "https://localhost:8080/",
     "height": 84
    },
    "colab_type": "code",
    "id": "XDLEvWaynoP1",
    "outputId": "8305d392-c8bb-47de-bf69-4e2e4ce4b11c"
   },
   "outputs": [
    {
     "name": "stdout",
     "output_type": "stream",
     "text": [
      "4275/4275 [==============================] - 4s 947us/step\n",
      "[0.04429441918106341, 0.9885380116959064]\n",
      "475/475 [==============================] - 0s 934us/step\n",
      "[0.46558146981816545, 0.9200000003764504]\n"
     ]
    }
   ],
   "source": [
    "print(model_N.evaluate(trainX, trainY))  # Evaluate on train set\n",
    "print(model_N.evaluate(testX, testY))  # Evaluate on test set"
   ]
  },
  {
   "cell_type": "code",
   "execution_count": 66,
   "metadata": {
    "colab": {
     "base_uri": "https://localhost:8080/",
     "height": 280
    },
    "colab_type": "code",
    "id": "9_SiOExgsg5c",
    "outputId": "fd5cf5d6-548d-4e52-f159-4a04579b9ac9"
   },
   "outputs": [
    {
     "data": {
      "image/png": "[encoded data removed]",
      "text/plain": [
       "<matplotlib.figure.Figure at 0x7f88f8d9cef0>"
      ]
     },
     "metadata": {
      "tags": []
     },
     "output_type": "display_data"
    }
   ],
   "source": [
    "plt.plot(history_N.history['acc'],'b') #train acc\n",
    "plt.plot(history_N.history['val_acc'],'g') #val acc\n",
    "plt.title('Training and Validation Accuracy model_N') \n",
    "plt.show()"
   ]
  },
  {
   "cell_type": "code",
   "execution_count": 67,
   "metadata": {
    "colab": {
     "base_uri": "https://localhost:8080/",
     "height": 280
    },
    "colab_type": "code",
    "id": "xXVHaGHYKa7c",
    "outputId": "48e95c5e-40bf-45ca-952f-f4dc14c2fa20"
   },
   "outputs": [
    {
     "data": {
      "image/png": "[encoded data removed]",
      "text/plain": [
       "<matplotlib.figure.Figure at 0x7f88f7cc3dd8>"
      ]
     },
     "metadata": {
      "tags": []
     },
     "output_type": "display_data"
    }
   ],
   "source": [
    "# plot training and validation loss\n",
    "plt.plot(history_N.history['loss'],'b') #train loss\n",
    "plt.plot(history_N.history['val_loss'],'g') #val loss\n",
    "plt.title('Training and Validation Loss model_N') \n",
    "plt.show()"
   ]
  },
  {
   "cell_type": "markdown",
   "metadata": {
    "colab_type": "text",
    "id": "zaSBwOh7HTyt"
   },
   "source": [
    "The plots for the model by NikKonst (2018) are shown above and demonstrate more overfitting for both the accuracy and loss scores.  The baseline error rate is 8% and the training accuracy is 92%."
   ]
  },
  {
   "cell_type": "markdown",
   "metadata": {
    "colab_type": "text",
    "id": "xW547ra9KXx-"
   },
   "source": [
    "## Pretrained VGG convet"
   ]
  },
  {
   "cell_type": "markdown",
   "metadata": {
    "colab_type": "text",
    "id": "F_FAka8eHoiX"
   },
   "source": [
    "The last model tested is the VGG16 model from keras.  This model includes pretrained weights from Imagenet.  The code for this process was taken from Chollet (2018), Chapter 5 section 3 on using Pretrained Models."
   ]
  },
  {
   "cell_type": "code",
   "execution_count": 14,
   "metadata": {
    "colab": {
     "base_uri": "https://localhost:8080/",
     "height": 806
    },
    "colab_type": "code",
    "id": "-S2OjcTiKc84",
    "outputId": "76e1e7a8-d214-4d7b-9375-39d6b37cac22"
   },
   "outputs": [
    {
     "name": "stdout",
     "output_type": "stream",
     "text": [
      "Downloading data from https://github.com/fchollet/deep-learning-models/releases/download/v0.1/vgg16_weights_tf_dim_ordering_tf_kernels_notop.h5\n",
      "58892288/58889256 [==============================] - 2s 0us/step\n",
      "_________________________________________________________________\n",
      "Layer (type)                 Output Shape              Param #   \n",
      "=================================================================\n",
      "input_1 (InputLayer)         (None, 71, 71, 3)         0         \n",
      "_________________________________________________________________\n",
      "block1_conv1 (Conv2D)        (None, 71, 71, 64)        1792      \n",
      "_________________________________________________________________\n",
      "block1_conv2 (Conv2D)        (None, 71, 71, 64)        36928     \n",
      "_________________________________________________________________\n",
      "block1_pool (MaxPooling2D)   (None, 35, 35, 64)        0         \n",
      "_________________________________________________________________\n",
      "block2_conv1 (Conv2D)        (None, 35, 35, 128)       73856     \n",
      "_________________________________________________________________\n",
      "block2_conv2 (Conv2D)        (None, 35, 35, 128)       147584    \n",
      "_________________________________________________________________\n",
      "block2_pool (MaxPooling2D)   (None, 17, 17, 128)       0         \n",
      "_________________________________________________________________\n",
      "block3_conv1 (Conv2D)        (None, 17, 17, 256)       295168    \n",
      "_________________________________________________________________\n",
      "block3_conv2 (Conv2D)        (None, 17, 17, 256)       590080    \n",
      "_________________________________________________________________\n",
      "block3_conv3 (Conv2D)        (None, 17, 17, 256)       590080    \n",
      "_________________________________________________________________\n",
      "block3_pool (MaxPooling2D)   (None, 8, 8, 256)         0         \n",
      "_________________________________________________________________\n",
      "block4_conv1 (Conv2D)        (None, 8, 8, 512)         1180160   \n",
      "_________________________________________________________________\n",
      "block4_conv2 (Conv2D)        (None, 8, 8, 512)         2359808   \n",
      "_________________________________________________________________\n",
      "block4_conv3 (Conv2D)        (None, 8, 8, 512)         2359808   \n",
      "_________________________________________________________________\n",
      "block4_pool (MaxPooling2D)   (None, 4, 4, 512)         0         \n",
      "_________________________________________________________________\n",
      "block5_conv1 (Conv2D)        (None, 4, 4, 512)         2359808   \n",
      "_________________________________________________________________\n",
      "block5_conv2 (Conv2D)        (None, 4, 4, 512)         2359808   \n",
      "_________________________________________________________________\n",
      "block5_conv3 (Conv2D)        (None, 4, 4, 512)         2359808   \n",
      "_________________________________________________________________\n",
      "block5_pool (MaxPooling2D)   (None, 2, 2, 512)         0         \n",
      "=================================================================\n",
      "Total params: 14,714,688\n",
      "Trainable params: 14,714,688\n",
      "Non-trainable params: 0\n",
      "_________________________________________________________________\n"
     ]
    }
   ],
   "source": [
    "# code taken from Chollet, (2018)\n",
    "from keras.applications import VGG16 \n",
    "conv_base = VGG16(weights='imagenet', include_top=False, input_shape=(71,71,3) )\n",
    "conv_base.summary()"
   ]
  },
  {
   "cell_type": "code",
   "execution_count": 15,
   "metadata": {
    "colab": {
     "base_uri": "https://localhost:8080/",
     "height": 269
    },
    "colab_type": "code",
    "id": "dPYfx16GKbxj",
    "outputId": "474b9ae3-37c7-49d2-fa71-617940eb9f4b"
   },
   "outputs": [
    {
     "name": "stdout",
     "output_type": "stream",
     "text": [
      "_________________________________________________________________\n",
      "Layer (type)                 Output Shape              Param #   \n",
      "=================================================================\n",
      "vgg16 (Model)                (None, 2, 2, 512)         14714688  \n",
      "_________________________________________________________________\n",
      "flatten_1 (Flatten)          (None, 2048)              0         \n",
      "_________________________________________________________________\n",
      "dense_1 (Dense)              (None, 256)               524544    \n",
      "_________________________________________________________________\n",
      "dense_2 (Dense)              (None, 12)                3084      \n",
      "=================================================================\n",
      "Total params: 15,242,316\n",
      "Trainable params: 15,242,316\n",
      "Non-trainable params: 0\n",
      "_________________________________________________________________\n"
     ]
    }
   ],
   "source": [
    "# code from Chollet, (2018)\n",
    "from keras import models \n",
    "from keras import layers\n",
    "model = models.Sequential() \n",
    "model.add(conv_base) \n",
    "model.add(layers.Flatten()) \n",
    "model.add(layers.Dense(256, activation='relu')) \n",
    "model.add(layers.Dense(12, activation='softmax'))\n",
    "\n",
    "model_VGG = model\n",
    "model_VGG.summary()"
   ]
  },
  {
   "cell_type": "code",
   "execution_count": 16,
   "metadata": {
    "colab": {
     "base_uri": "https://localhost:8080/",
     "height": 50
    },
    "colab_type": "code",
    "id": "FIoCL2UXNZkO",
    "outputId": "9a58be26-793c-4ee7-e903-ab5b09c75641"
   },
   "outputs": [
    {
     "name": "stdout",
     "output_type": "stream",
     "text": [
      "This is the number of trainable weights before freezing the conv base: 30\n",
      "This is the number of trainable weights after freezing the conv base: 4\n"
     ]
    }
   ],
   "source": [
    "print('This is the number of trainable weights ' 'before freezing the conv base:', len(model_VGG.trainable_weights)) \n",
    "conv_base.trainable = False\n",
    "print('This is the number of trainable weights ' 'after freezing the conv base:', len(model_VGG.trainable_weights)) \n"
   ]
  },
  {
   "cell_type": "code",
   "execution_count": 0,
   "metadata": {
    "colab": {},
    "colab_type": "code",
    "id": "IC23UelUOK49"
   },
   "outputs": [],
   "source": [
    "# compile model\n",
    "model_VGG.compile(loss='categorical_crossentropy', optimizer='adam', metrics=['accuracy'])"
   ]
  },
  {
   "cell_type": "code",
   "execution_count": 18,
   "metadata": {
    "colab": {
     "base_uri": "https://localhost:8080/",
     "height": 1226
    },
    "colab_type": "code",
    "id": "8S_NTVm0O9JW",
    "outputId": "28b80f9c-8ce5-4324-ce3a-5a619e9efb68"
   },
   "outputs": [
    {
     "name": "stdout",
     "output_type": "stream",
     "text": [
      "Epoch 1/35\n",
      "4275/4275 [==============================] - 623s 146ms/step - loss: 0.5618 - acc: 0.7952 - val_loss: 0.5001 - val_acc: 0.8147\n",
      "Epoch 2/35\n",
      "4275/4275 [==============================] - 623s 146ms/step - loss: 0.3932 - acc: 0.8508 - val_loss: 0.5184 - val_acc: 0.8189\n",
      "Epoch 3/35\n",
      "4275/4275 [==============================] - 629s 147ms/step - loss: 0.3429 - acc: 0.8681 - val_loss: 0.5715 - val_acc: 0.8126\n",
      "Epoch 4/35\n",
      "4275/4275 [==============================] - 633s 148ms/step - loss: 0.3095 - acc: 0.8801 - val_loss: 0.5606 - val_acc: 0.8232\n",
      "Epoch 5/35\n",
      "4275/4275 [==============================] - 637s 149ms/step - loss: 0.2874 - acc: 0.8880 - val_loss: 0.6035 - val_acc: 0.8042\n",
      "Epoch 6/35\n",
      "4275/4275 [==============================] - 654s 153ms/step - loss: 0.2724 - acc: 0.8933 - val_loss: 0.5715 - val_acc: 0.8274\n",
      "Epoch 7/35\n",
      "4275/4275 [==============================] - 641s 150ms/step - loss: 0.2585 - acc: 0.8988 - val_loss: 0.5173 - val_acc: 0.8379\n",
      "Epoch 8/35\n",
      "4275/4275 [==============================] - 616s 144ms/step - loss: 0.2477 - acc: 0.9022 - val_loss: 0.5734 - val_acc: 0.8400\n",
      "Epoch 9/35\n",
      "4275/4275 [==============================] - 617s 144ms/step - loss: 0.2396 - acc: 0.9054 - val_loss: 0.5515 - val_acc: 0.8316\n",
      "Epoch 10/35\n",
      "4275/4275 [==============================] - 619s 145ms/step - loss: 0.2317 - acc: 0.9082 - val_loss: 0.6456 - val_acc: 0.8253\n",
      "Epoch 11/35\n",
      "4275/4275 [==============================] - 598s 140ms/step - loss: 0.2234 - acc: 0.9112 - val_loss: 0.6007 - val_acc: 0.8274\n",
      "Epoch 12/35\n",
      "4275/4275 [==============================] - 605s 141ms/step - loss: 0.2197 - acc: 0.9131 - val_loss: 0.6283 - val_acc: 0.8274\n",
      "Epoch 13/35\n",
      "4275/4275 [==============================] - 605s 141ms/step - loss: 0.2137 - acc: 0.9152 - val_loss: 0.5876 - val_acc: 0.8337\n",
      "Epoch 14/35\n",
      "4275/4275 [==============================] - 602s 141ms/step - loss: 0.2082 - acc: 0.9174 - val_loss: 0.5769 - val_acc: 0.8400\n",
      "Epoch 15/35\n",
      "4275/4275 [==============================] - 599s 140ms/step - loss: 0.2029 - acc: 0.9194 - val_loss: 0.6338 - val_acc: 0.8274\n",
      "Epoch 16/35\n",
      "4275/4275 [==============================] - 602s 141ms/step - loss: 0.2005 - acc: 0.9203 - val_loss: 0.6135 - val_acc: 0.8442\n",
      "Epoch 17/35\n",
      "4275/4275 [==============================] - 605s 141ms/step - loss: 0.1967 - acc: 0.9224 - val_loss: 0.6077 - val_acc: 0.8358\n",
      "Epoch 18/35\n",
      "4275/4275 [==============================] - 608s 142ms/step - loss: 0.1922 - acc: 0.9238 - val_loss: 0.6768 - val_acc: 0.8105\n",
      "Epoch 19/35\n",
      "4275/4275 [==============================] - 609s 143ms/step - loss: 0.1911 - acc: 0.9246 - val_loss: 0.6785 - val_acc: 0.8337\n",
      "Epoch 20/35\n",
      "4275/4275 [==============================] - 610s 143ms/step - loss: 0.1867 - acc: 0.9257 - val_loss: 0.5844 - val_acc: 0.8484\n",
      "Epoch 21/35\n",
      "4275/4275 [==============================] - 603s 141ms/step - loss: 0.1848 - acc: 0.9267 - val_loss: 0.5959 - val_acc: 0.8400\n",
      "Epoch 22/35\n",
      "4275/4275 [==============================] - 598s 140ms/step - loss: 0.1800 - acc: 0.9288 - val_loss: 0.6150 - val_acc: 0.8337\n",
      "Epoch 23/35\n",
      "4275/4275 [==============================] - 592s 139ms/step - loss: 0.1794 - acc: 0.9295 - val_loss: 0.6247 - val_acc: 0.8547\n",
      "Epoch 24/35\n",
      "4275/4275 [==============================] - 600s 140ms/step - loss: 0.1785 - acc: 0.9292 - val_loss: 0.6491 - val_acc: 0.8379\n",
      "Epoch 25/35\n",
      "4275/4275 [==============================] - 599s 140ms/step - loss: 0.1767 - acc: 0.9302 - val_loss: 0.6626 - val_acc: 0.8232\n",
      "Epoch 26/35\n",
      "4275/4275 [==============================] - 597s 140ms/step - loss: 0.1724 - acc: 0.9318 - val_loss: 0.6519 - val_acc: 0.8253\n",
      "Epoch 27/35\n",
      "4275/4275 [==============================] - 621s 145ms/step - loss: 0.1714 - acc: 0.9321 - val_loss: 0.6138 - val_acc: 0.8463\n",
      "Epoch 28/35\n",
      "4275/4275 [==============================] - 604s 141ms/step - loss: 0.1696 - acc: 0.9330 - val_loss: 0.6736 - val_acc: 0.8232\n",
      "Epoch 29/35\n",
      "4275/4275 [==============================] - 604s 141ms/step - loss: 0.1663 - acc: 0.9344 - val_loss: 0.6111 - val_acc: 0.8337\n",
      "Epoch 30/35\n",
      "4275/4275 [==============================] - 620s 145ms/step - loss: 0.1650 - acc: 0.9351 - val_loss: 0.6173 - val_acc: 0.8316\n",
      "Epoch 31/35\n",
      "4275/4275 [==============================] - 625s 146ms/step - loss: 0.1642 - acc: 0.9350 - val_loss: 0.6796 - val_acc: 0.8168\n",
      "Epoch 32/35\n",
      "4275/4275 [==============================] - 626s 146ms/step - loss: 0.1629 - acc: 0.9358 - val_loss: 0.6333 - val_acc: 0.8400\n",
      "Epoch 33/35\n",
      "4275/4275 [==============================] - 629s 147ms/step - loss: 0.1601 - acc: 0.9372 - val_loss: 0.6137 - val_acc: 0.8484\n",
      "Epoch 34/35\n",
      "4275/4275 [==============================] - 634s 148ms/step - loss: 0.1590 - acc: 0.9369 - val_loss: 0.6447 - val_acc: 0.8421\n",
      "Epoch 35/35\n",
      "4275/4275 [==============================] - 634s 148ms/step - loss: 0.1586 - acc: 0.9375 - val_loss: 0.6698 - val_acc: 0.8337\n",
      "21521.5575568676  seconds\n",
      "Baseline Error: 16.63%\n"
     ]
    }
   ],
   "source": [
    "t0=time.time()\n",
    "history_VGG = model_VGG.fit_generator(datagen.flow(trainX, trainY, batch_size=75), epochs=35, validation_data=(testX, testY), steps_per_epoch=trainX.shape[0])\n",
    "t1=time.time()\n",
    "print(t1-t0,\" seconds\")\n",
    "\n",
    "# Final evaluation of the model\n",
    "scores = model_VGG.evaluate(testX, testY, verbose=0)\n",
    "print(\"Baseline Error: %.2f%%\" % (100-scores[1]*100))\n",
    "\n"
   ]
  },
  {
   "cell_type": "markdown",
   "metadata": {
    "colab_type": "text",
    "id": "ZrLU0C17MAPz"
   },
   "source": [
    "### Accuracy for model_VGG"
   ]
  },
  {
   "cell_type": "code",
   "execution_count": 19,
   "metadata": {
    "colab": {
     "base_uri": "https://localhost:8080/",
     "height": 84
    },
    "colab_type": "code",
    "id": "X7vRhShHQd1i",
    "outputId": "4d523769-656d-4c18-bb67-e0778c8c2328"
   },
   "outputs": [
    {
     "name": "stdout",
     "output_type": "stream",
     "text": [
      "4275/4275 [==============================] - 7s 2ms/step\n",
      "[0.17762676069610997, 0.9321637426203454]\n",
      "475/475 [==============================] - 1s 1ms/step\n",
      "[0.6697807891745317, 0.8336842112792165]\n"
     ]
    }
   ],
   "source": [
    "print(model_VGG.evaluate(trainX, trainY))  # Evaluate on train set\n",
    "print(model_VGG.evaluate(testX, testY))  # Evaluate on test set"
   ]
  },
  {
   "cell_type": "markdown",
   "metadata": {
    "colab_type": "text",
    "id": "EL1reVahMFhC"
   },
   "source": [
    "### Plots for model_VGG"
   ]
  },
  {
   "cell_type": "code",
   "execution_count": 20,
   "metadata": {
    "colab": {
     "base_uri": "https://localhost:8080/",
     "height": 280
    },
    "colab_type": "code",
    "id": "03ieExH0Qd1m",
    "outputId": "b0e60804-164c-4b64-bd5d-799f41196f18"
   },
   "outputs": [
    {
     "data": {
      "image/png": "[encoded data removed]",
      "text/plain": [
       "<matplotlib.figure.Figure at 0x7fcd10275e10>"
      ]
     },
     "metadata": {
      "tags": []
     },
     "output_type": "display_data"
    }
   ],
   "source": [
    "plt.plot(history_VGG.history['acc'],'b') #train acc\n",
    "plt.plot(history_VGG.history['val_acc'],'g') #val acc\n",
    "plt.title('Training and Validation Accuracy VGG Model') \n",
    "plt.show()"
   ]
  },
  {
   "cell_type": "code",
   "execution_count": 21,
   "metadata": {
    "colab": {
     "base_uri": "https://localhost:8080/",
     "height": 280
    },
    "colab_type": "code",
    "id": "YGnOhqhOQT-0",
    "outputId": "0b357ec1-c2e8-4e0d-964f-749af9889822"
   },
   "outputs": [
    {
     "data": {
      "image/png": "[encoded data removed]",
      "text/plain": [
       "<matplotlib.figure.Figure at 0x7fccff7f5c88>"
      ]
     },
     "metadata": {
      "tags": []
     },
     "output_type": "display_data"
    }
   ],
   "source": [
    "# plot training and validation loss\n",
    "plt.plot(history_VGG.history['loss'],'b') #train loss\n",
    "plt.plot(history_VGG.history['val_loss'],'g') #val loss\n",
    "plt.title('Training and Validation loss VGG Model') \n",
    "plt.show()"
   ]
  },
  {
   "cell_type": "markdown",
   "metadata": {
    "colab_type": "text",
    "id": "ahD5k35nDrAb"
   },
   "source": [
    "The pretrained VGG model had baseline error rate of 17%, a validation accuracy of 83% and significant overfitting.  This model appears too complex for the small dataset."
   ]
  },
  {
   "cell_type": "markdown",
   "metadata": {
    "colab_type": "text",
    "id": "cu9D6YCrMKo9"
   },
   "source": [
    "# Discussion"
   ]
  },
  {
   "cell_type": "markdown",
   "metadata": {
    "colab_type": "text",
    "id": "e3v4FM3yYwh7"
   },
   "source": [
    "A comparsion chart on all the models tested for this project are listed below."
   ]
  },
  {
   "cell_type": "markdown",
   "metadata": {
    "colab_type": "text",
    "id": "KX-TlYI3UsEN"
   },
   "source": [
    "Model | Conv Layers | % Error | % Valid. Acc. | Seconds | Train. Parameters\n",
    ":--- | :--- | :--- | :--- | :--- | :--- | ---:\n",
    "model_N |  [64,64, 128,128, 256,256] | 8 | 92 | 26,586 | 3,317,580\n",
    "model2 | inception2 layers | 12 | 88 | 330 | 4,823,436\n",
    "model_A | [32,64,128,128] | 13 | 87 | 259 | 274,444\n",
    "model_B | [80,80,160,160,240] | 13 | 87 | 355 | 784,076\n",
    "model1 | inception1 layers | 17 | 83 | 301 | 7,329,548\n",
    "VGG16 | VGG16 layers | 17 | 83 | 21,521 | 15,242,316\n"
   ]
  },
  {
   "cell_type": "markdown",
   "metadata": {
    "colab_type": "text",
    "id": "geA4uTo5I3dW"
   },
   "source": [
    "In this project, six CNN models were tested on the plant seedling training data from Kaggle. The models ranged from simple to complex with the VGG16 being the largest model with 15 million trainable parameters.  The VGG16 was the only pretrained model used in this project.\n",
    "\n",
    "The model that performed the best during this project was the model_N by NikKonst (2018).  This model had a baseline error rate of 8% and a validation accuracy of 92%.  However, there was significant overfitting observed on the plots, which was surprising since it included batch normalization and dropout layers.  \n",
    "\n",
    "Model2 had the second lowest error rate at 12% and less overfitting on the accuracy and loss plots.  This model has a few more convolution layers as compared to model_N, but no batch normalization or dropout layers.  This model may have better generalization on new data since there is less overfitting and was used for the Kaggle test data submission.  \n",
    "\n",
    "The models that performed the best contained trainable parameters in the 3-5 million range and may be an indication of the optimal model capacity for this dataset .  The models with parameters lower or higher than this range did not perform as well.  \n",
    "\n",
    "Chollet (2018, p 105) also mentioned that \"There is a compromise to be found between too much capacity and not enough capacity.\"  He recommends evaluating few layers and parameters first and increasing the number of parameters until you can find the model with optimal performance.\n",
    "\n",
    "A factor that did improved accuracy for most of the models in this project was the masking technique to remove background images. Several of the same CNN models were tried without the masking technique, and all of them resulted in worse metrics and much longer run times. \n",
    "\n",
    "A review of Kaggle competitors shows that better results were obtained with the plant seedling data by others. The two highest results I found were from Kazachok (2018) with 97% accuracy and NikKonst (2018) at 96% accuracy. Both individuals used pretrained weights to improve their accuracy.\n",
    "\n",
    "There are other options available that may improve the metrics I obtained. The first one is to save the best weights from the initial training as done by Kazachok (2018) and NikKonst (2018) and use these pretrained weights in the final training model. However, due to time constraints, I did not venture into this technique.\n",
    "\n",
    "Another option to improve the metrics of CNN models would be to try a different image size. One could also fine-tune the image data generator or other parameters used in the training process. I did experiment with many variations in the hyperparameters, and regularization, and settled on the ones presented in this paper.\n",
    "\n",
    "Overall, this project was extremely educational and fun. Going through the entire process of developing and comparing CNN models from start to finish was very beneficial.\n",
    "\n"
   ]
  },
  {
   "cell_type": "markdown",
   "metadata": {
    "colab_type": "text",
    "id": "7ZKubOBGcX4O"
   },
   "source": [
    "# Submission to Kaggle"
   ]
  },
  {
   "cell_type": "markdown",
   "metadata": {
    "colab_type": "text",
    "id": "F1cPitdfccZV"
   },
   "source": [
    "The model used to predict the labels for test data on Kaggle is model2 because it had the second best error rate of 12% and less overfitting than model_N.  Hopefully, with less overfitting, the model will generalize well to the Kaggle test images.  Processing the images for the this data is the same as that used for the training data."
   ]
  },
  {
   "cell_type": "code",
   "execution_count": 52,
   "metadata": {
    "colab": {
     "base_uri": "https://localhost:8080/",
     "height": 13599
    },
    "colab_type": "code",
    "id": "LYNKs4EXoNH3",
    "outputId": "a9717787-bd0d-4cdd-e541-d7ae729c5382"
   },
   "outputs": [
    {
     "name": "stdout",
     "output_type": "stream",
     "text": [
      "total images: 794\n",
      "working on file: 1\n",
      "Obtain images: 1/794\r",
      "working on file: 2\n",
      "Obtain images: 2/794\r",
      "working on file: 3\n",
      "Obtain images: 3/794\r",
      "working on file: 4\n",
      "Obtain images: 4/794\r",
      "working on file: 5\n",
      "Obtain images: 5/794\r",
      "working on file: 6\n",
      "Obtain images: 6/794\r",
      "working on file: 7\n",
      "Obtain images: 7/794\r",
      "working on file: 8\n",
      "Obtain images: 8/794\r",
      "working on file: 9\n",
      "Obtain images: 9/794\r",
      "working on file: 10\n",
      "Obtain images: 10/794\r",
      "working on file: 11\n",
      "Obtain images: 11/794\r",
      "working on file: 12\n",
      "Obtain images: 12/794\r",
      "working on file: 13\n",
      "Obtain images: 13/794\r",
      "working on file: 14\n",
      "Obtain images: 14/794\r",
      "working on file: 15\n",
      "Obtain images: 15/794\r",
      "working on file: 16\n",
      "Obtain images: 16/794\r",
      "working on file: 17\n",
      "Obtain images: 17/794\r",
      "working on file: 18\n",
      "Obtain images: 18/794\r",
      "working on file: 19\n",
      "Obtain images: 19/794\r",
      "working on file: 20\n",
      "Obtain images: 20/794\r",
      "working on file: 21\n",
      "Obtain images: 21/794\r",
      "working on file: 22\n",
      "Obtain images: 22/794\r",
      "working on file: 23\n",
      "Obtain images: 23/794\r",
      "working on file: 24\n",
      "Obtain images: 24/794\r",
      "working on file: 25\n",
      "Obtain images: 25/794\r",
      "working on file: 26\n",
      "Obtain images: 26/794\r",
      "working on file: 27\n",
      "Obtain images: 27/794\r",
      "working on file: 28\n",
      "Obtain images: 28/794\r",
      "working on file: 29\n",
      "Obtain images: 29/794\r",
      "working on file: 30\n",
      "Obtain images: 30/794\r",
      "working on file: 31\n",
      "working on file: 32\n",
      "working on file: 33\n",
      "working on file: 34\n",
      "working on file: 35\n",
      "working on file: 36\n",
      "working on file: 37\n",
      "working on file: 38\n",
      "working on file: 39\n",
      "working on file: 40\n",
      "working on file: 41\n",
      "working on file: 42\n",
      "working on file: 43\n",
      "working on file: 44\n",
      "working on file: 45\n",
      "working on file: 46\n",
      "working on file: 47\n",
      "working on file: 48\n",
      "working on file: 49\n",
      "working on file: 50\n",
      "working on file: 51\n",
      "working on file: 52\n",
      "working on file: 53\n",
      "working on file: 54\n",
      "working on file: 55\n",
      "working on file: 56\n",
      "working on file: 57\n",
      "working on file: 58\n",
      "working on file: 59\n",
      "working on file: 60\n",
      "working on file: 61\n",
      "working on file: 62\n",
      "working on file: 63\n",
      "working on file: 64\n",
      "working on file: 65\n",
      "working on file: 66\n",
      "working on file: 67\n",
      "working on file: 68\n",
      "working on file: 69\n",
      "working on file: 70\n",
      "working on file: 71\n",
      "working on file: 72\n",
      "working on file: 73\n",
      "working on file: 74\n",
      "working on file: 75\n",
      "working on file: 76\n",
      "working on file: 77\n",
      "working on file: 78\n",
      "working on file: 79\n",
      "working on file: 80\n",
      "working on file: 81\n",
      "working on file: 82\n",
      "working on file: 83\n",
      "working on file: 84\n",
      "working on file: 85\n",
      "working on file: 86\n",
      "working on file: 87\n",
      "working on file: 88\n",
      "working on file: 89\n",
      "working on file: 90\n",
      "working on file: 91\n",
      "working on file: 92\n",
      "working on file: 93\n",
      "working on file: 94\n",
      "working on file: 95\n",
      "working on file: 96\n",
      "working on file: 97\n",
      "working on file: 98\n",
      "working on file: 99\n",
      "working on file: 100\n",
      "working on file: 101\n",
      "working on file: 102\n",
      "working on file: 103\n",
      "working on file: 104\n",
      "working on file: 105\n",
      "working on file: 106\n",
      "working on file: 107\n",
      "working on file: 108\n",
      "working on file: 109\n",
      "working on file: 110\n",
      "working on file: 111\n",
      "working on file: 112\n",
      "working on file: 113\n",
      "working on file: 114\n",
      "working on file: 115\n",
      "working on file: 116\n",
      "working on file: 117\n",
      "working on file: 118\n",
      "working on file: 119\n",
      "working on file: 120\n",
      "working on file: 121\n",
      "working on file: 122\n",
      "working on file: 123\n",
      "working on file: 124\n",
      "working on file: 125\n",
      "working on file: 126\n",
      "working on file: 127\n",
      "working on file: 128\n",
      "working on file: 129\n",
      "working on file: 130\n",
      "working on file: 131\n",
      "working on file: 132\n",
      "working on file: 133\n",
      "working on file: 134\n",
      "working on file: 135\n",
      "working on file: 136\n",
      "working on file: 137\n",
      "working on file: 138\n",
      "working on file: 139\n",
      "working on file: 140\n",
      "working on file: 141\n",
      "working on file: 142\n",
      "working on file: 143\n",
      "working on file: 144\n",
      "working on file: 145\n",
      "working on file: 146\n",
      "working on file: 147\n",
      "working on file: 148\n",
      "working on file: 149\n",
      "working on file: 150\n",
      "working on file: 151\n",
      "working on file: 152\n",
      "working on file: 153\n",
      "working on file: 154\n",
      "working on file: 155\n",
      "working on file: 156\n",
      "working on file: 157\n",
      "working on file: 158\n",
      "working on file: 159\n",
      "working on file: 160\n",
      "working on file: 161\n",
      "working on file: 162\n",
      "working on file: 163\n",
      "working on file: 164\n",
      "working on file: 165\n",
      "working on file: 166\n",
      "working on file: 167\n",
      "working on file: 168\n",
      "working on file: 169\n",
      "working on file: 170\n",
      "working on file: 171\n",
      "working on file: 172\n",
      "working on file: 173\n",
      "working on file: 174\n",
      "working on file: 175\n",
      "working on file: 176\n",
      "working on file: 177\n",
      "working on file: 178\n",
      "working on file: 179\n",
      "working on file: 180\n",
      "working on file: 181\n",
      "working on file: 182\n",
      "working on file: 183\n",
      "working on file: 184\n",
      "working on file: 185\n",
      "working on file: 186\n",
      "working on file: 187\n",
      "working on file: 188\n",
      "working on file: 189\n",
      "working on file: 190\n",
      "working on file: 191\n",
      "working on file: 192\n",
      "working on file: 193\n",
      "working on file: 194\n",
      "working on file: 195\n",
      "working on file: 196\n",
      "working on file: 197\n",
      "working on file: 198\n",
      "working on file: 199\n",
      "working on file: 200\n",
      "working on file: 201\n",
      "working on file: 202\n",
      "working on file: 203\n",
      "working on file: 204\n",
      "working on file: 205\n",
      "working on file: 206\n",
      "working on file: 207\n",
      "working on file: 208\n",
      "working on file: 209\n",
      "working on file: 210\n",
      "working on file: 211\n",
      "working on file: 212\n",
      "working on file: 213\n",
      "working on file: 214\n",
      "working on file: 215\n",
      "working on file: 216\n",
      "working on file: 217\n",
      "working on file: 218\n",
      "working on file: 219\n",
      "working on file: 220\n",
      "working on file: 221\n",
      "working on file: 222\n",
      "working on file: 223\n",
      "working on file: 224\n",
      "working on file: 225\n",
      "working on file: 226\n",
      "working on file: 227\n",
      "working on file: 228\n",
      "working on file: 229\n",
      "working on file: 230\n",
      "working on file: 231\n",
      "working on file: 232\n",
      "working on file: 233\n",
      "working on file: 234\n",
      "working on file: 235\n",
      "working on file: 236\n",
      "working on file: 237\n",
      "working on file: 238\n",
      "working on file: 239\n",
      "working on file: 240\n",
      "working on file: 241\n",
      "working on file: 242\n",
      "working on file: 243\n",
      "working on file: 244\n",
      "working on file: 245\n",
      "working on file: 246\n",
      "working on file: 247\n",
      "working on file: 248\n",
      "working on file: 249\n",
      "working on file: 250\n",
      "working on file: 251\n",
      "working on file: 252\n",
      "working on file: 253\n",
      "working on file: 254\n",
      "working on file: 255\n",
      "working on file: 256\n",
      "working on file: 257\n",
      "working on file: 258\n",
      "working on file: 259\n",
      "working on file: 260\n",
      "working on file: 261\n",
      "working on file: 262\n",
      "working on file: 263\n",
      "working on file: 264\n",
      "working on file: 265\n",
      "working on file: 266\n",
      "working on file: 267\n",
      "working on file: 268\n",
      "working on file: 269\n",
      "working on file: 270\n",
      "working on file: 271\n",
      "working on file: 272\n",
      "working on file: 273\n",
      "working on file: 274\n",
      "working on file: 275\n",
      "working on file: 276\n",
      "working on file: 277\n",
      "working on file: 278\n",
      "working on file: 279\n",
      "working on file: 280\n",
      "working on file: 281\n",
      "working on file: 282\n",
      "working on file: 283\n",
      "working on file: 284\n",
      "working on file: 285\n",
      "working on file: 286\n",
      "working on file: 287\n",
      "working on file: 288\n",
      "working on file: 289\n",
      "working on file: 290\n",
      "working on file: 291\n",
      "working on file: 292\n",
      "working on file: 293\n",
      "working on file: 294\n",
      "working on file: 295\n",
      "working on file: 296\n",
      "working on file: 297\n",
      "working on file: 298\n",
      "working on file: 299\n",
      "working on file: 300\n",
      "working on file: 301\n",
      "working on file: 302\n",
      "working on file: 303\n",
      "working on file: 304\n",
      "working on file: 305\n",
      "working on file: 306\n",
      "working on file: 307\n",
      "working on file: 308\n",
      "working on file: 309\n",
      "working on file: 310\n",
      "working on file: 311\n",
      "working on file: 312\n",
      "working on file: 313\n",
      "working on file: 314\n",
      "working on file: 315\n",
      "working on file: 316\n",
      "working on file: 317\n",
      "working on file: 318\n",
      "working on file: 319\n",
      "working on file: 320\n",
      "working on file: 321\n",
      "working on file: 322\n",
      "working on file: 323\n",
      "working on file: 324\n",
      "working on file: 325\n",
      "working on file: 326\n",
      "working on file: 327\n",
      "working on file: 328\n",
      "working on file: 329\n",
      "working on file: 330\n",
      "working on file: 331\n",
      "working on file: 332\n",
      "working on file: 333\n",
      "working on file: 334\n",
      "working on file: 335\n",
      "working on file: 336\n",
      "working on file: 337\n",
      "working on file: 338\n",
      "working on file: 339\n",
      "working on file: 340\n",
      "working on file: 341\n",
      "working on file: 342\n",
      "working on file: 343\n",
      "working on file: 344\n",
      "working on file: 345\n",
      "working on file: 346\n",
      "working on file: 347\n",
      "working on file: 348\n",
      "working on file: 349\n",
      "working on file: 350\n",
      "working on file: 351\n",
      "working on file: 352\n",
      "working on file: 353\n",
      "working on file: 354\n",
      "working on file: 355\n",
      "working on file: 356\n",
      "working on file: 357\n",
      "working on file: 358\n",
      "working on file: 359\n",
      "working on file: 360\n",
      "working on file: 361\n",
      "working on file: 362\n",
      "working on file: 363\n",
      "working on file: 364\n",
      "working on file: 365\n",
      "working on file: 366\n",
      "working on file: 367\n",
      "working on file: 368\n",
      "working on file: 369\n",
      "working on file: 370\n",
      "working on file: 371\n",
      "working on file: 372\n",
      "working on file: 373\n",
      "working on file: 374\n",
      "working on file: 375\n",
      "working on file: 376\n",
      "working on file: 377\n",
      "working on file: 378\n",
      "working on file: 379\n",
      "working on file: 380\n",
      "working on file: 381\n",
      "working on file: 382\n",
      "working on file: 383\n",
      "working on file: 384\n",
      "working on file: 385\n",
      "working on file: 386\n",
      "working on file: 387\n",
      "working on file: 388\n",
      "working on file: 389\n",
      "working on file: 390\n",
      "working on file: 391\n",
      "working on file: 392\n",
      "working on file: 393\n",
      "working on file: 394\n",
      "working on file: 395\n",
      "working on file: 396\n",
      "working on file: 397\n",
      "working on file: 398\n",
      "working on file: 399\n",
      "working on file: 400\n",
      "working on file: 401\n",
      "working on file: 402\n",
      "working on file: 403\n",
      "working on file: 404\n",
      "working on file: 405\n",
      "working on file: 406\n",
      "working on file: 407\n",
      "working on file: 408\n",
      "working on file: 409\n",
      "working on file: 410\n",
      "working on file: 411\n",
      "working on file: 412\n",
      "working on file: 413\n",
      "working on file: 414\n",
      "working on file: 415\n",
      "working on file: 416\n",
      "working on file: 417\n",
      "working on file: 418\n",
      "working on file: 419\n",
      "working on file: 420\n",
      "working on file: 421\n",
      "working on file: 422\n",
      "working on file: 423\n",
      "working on file: 424\n",
      "working on file: 425\n",
      "working on file: 426\n",
      "working on file: 427\n",
      "working on file: 428\n",
      "working on file: 429\n",
      "working on file: 430\n",
      "working on file: 431\n",
      "working on file: 432\n",
      "working on file: 433\n",
      "working on file: 434\n",
      "working on file: 435\n",
      "working on file: 436\n",
      "working on file: 437\n",
      "working on file: 438\n",
      "working on file: 439\n",
      "working on file: 440\n",
      "working on file: 441\n",
      "working on file: 442\n",
      "working on file: 443\n",
      "working on file: 444\n",
      "working on file: 445\n",
      "working on file: 446\n",
      "working on file: 447\n",
      "working on file: 448\n",
      "working on file: 449\n",
      "working on file: 450\n",
      "working on file: 451\n",
      "working on file: 452\n",
      "working on file: 453\n",
      "working on file: 454\n",
      "working on file: 455\n",
      "working on file: 456\n",
      "working on file: 457\n",
      "working on file: 458\n",
      "working on file: 459\n",
      "working on file: 460\n",
      "working on file: 461\n",
      "working on file: 462\n",
      "working on file: 463\n",
      "working on file: 464\n",
      "working on file: 465\n",
      "working on file: 466\n",
      "working on file: 467\n",
      "working on file: 468\n",
      "working on file: 469\n",
      "working on file: 470\n",
      "working on file: 471\n",
      "working on file: 472\n",
      "working on file: 473\n",
      "working on file: 474\n",
      "working on file: 475\n",
      "working on file: 476\n",
      "working on file: 477\n",
      "working on file: 478\n",
      "working on file: 479\n",
      "working on file: 480\n",
      "working on file: 481\n",
      "working on file: 482\n",
      "working on file: 483\n",
      "working on file: 484\n",
      "working on file: 485\n",
      "working on file: 486\n",
      "working on file: 487\n",
      "working on file: 488\n",
      "working on file: 489\n",
      "working on file: 490\n",
      "working on file: 491\n",
      "working on file: 492\n",
      "working on file: 493\n",
      "working on file: 494\n",
      "working on file: 495\n",
      "working on file: 496\n",
      "working on file: 497\n",
      "working on file: 498\n",
      "working on file: 499\n",
      "working on file: 500\n",
      "working on file: 501\n",
      "working on file: 502\n",
      "working on file: 503\n",
      "working on file: 504\n",
      "working on file: 505\n",
      "working on file: 506\n",
      "working on file: 507\n",
      "working on file: 508\n",
      "working on file: 509\n",
      "working on file: 510\n",
      "working on file: 511\n",
      "working on file: 512\n",
      "working on file: 513\n",
      "working on file: 514\n",
      "working on file: 515\n",
      "working on file: 516\n",
      "working on file: 517\n",
      "working on file: 518\n",
      "working on file: 519\n",
      "working on file: 520\n",
      "working on file: 521\n",
      "working on file: 522\n",
      "working on file: 523\n",
      "working on file: 524\n",
      "working on file: 525\n",
      "working on file: 526\n",
      "working on file: 527\n",
      "working on file: 528\n",
      "working on file: 529\n",
      "working on file: 530\n",
      "working on file: 531\n",
      "working on file: 532\n",
      "working on file: 533\n",
      "working on file: 534\n",
      "working on file: 535\n",
      "working on file: 536\n",
      "working on file: 537\n",
      "working on file: 538\n",
      "working on file: 539\n",
      "working on file: 540\n",
      "working on file: 541\n",
      "working on file: 542\n",
      "working on file: 543\n",
      "working on file: 544\n",
      "working on file: 545\n",
      "working on file: 546\n",
      "working on file: 547\n",
      "working on file: 548\n",
      "working on file: 549\n",
      "working on file: 550\n",
      "working on file: 551\n",
      "working on file: 552\n",
      "working on file: 553\n",
      "working on file: 554\n",
      "working on file: 555\n",
      "working on file: 556\n",
      "working on file: 557\n",
      "working on file: 558\n",
      "working on file: 559\n",
      "working on file: 560\n",
      "working on file: 561\n",
      "working on file: 562\n",
      "working on file: 563\n",
      "working on file: 564\n",
      "working on file: 565\n",
      "working on file: 566\n",
      "working on file: 567\n",
      "working on file: 568\n",
      "working on file: 569\n",
      "working on file: 570\n",
      "working on file: 571\n",
      "working on file: 572\n",
      "working on file: 573\n",
      "working on file: 574\n",
      "working on file: 575\n",
      "working on file: 576\n",
      "working on file: 577\n",
      "working on file: 578\n",
      "working on file: 579\n",
      "working on file: 580\n",
      "working on file: 581\n",
      "working on file: 582\n",
      "working on file: 583\n",
      "working on file: 584\n",
      "working on file: 585\n",
      "working on file: 586\n",
      "working on file: 587\n",
      "working on file: 588\n",
      "working on file: 589\n",
      "working on file: 590\n",
      "working on file: 591\n",
      "working on file: 592\n",
      "working on file: 593\n",
      "working on file: 594\n",
      "working on file: 595\n",
      "working on file: 596\n",
      "working on file: 597\n",
      "working on file: 598\n",
      "working on file: 599\n",
      "working on file: 600\n",
      "working on file: 601\n",
      "working on file: 602\n",
      "working on file: 603\n",
      "working on file: 604\n",
      "working on file: 605\n",
      "working on file: 606\n",
      "working on file: 607\n",
      "working on file: 608\n",
      "working on file: 609\n",
      "working on file: 610\n",
      "working on file: 611\n",
      "working on file: 612\n",
      "working on file: 613\n",
      "working on file: 614\n",
      "working on file: 615\n",
      "working on file: 616\n",
      "working on file: 617\n",
      "working on file: 618\n",
      "working on file: 619\n",
      "working on file: 620\n",
      "working on file: 621\n",
      "working on file: 622\n",
      "working on file: 623\n",
      "working on file: 624\n",
      "working on file: 625\n",
      "working on file: 626\n",
      "working on file: 627\n",
      "working on file: 628\n",
      "working on file: 629\n",
      "working on file: 630\n",
      "working on file: 631\n",
      "working on file: 632\n",
      "working on file: 633\n",
      "working on file: 634\n",
      "working on file: 635\n",
      "working on file: 636\n",
      "working on file: 637\n",
      "working on file: 638\n",
      "working on file: 639\n",
      "working on file: 640\n",
      "working on file: 641\n",
      "working on file: 642\n",
      "working on file: 643\n",
      "working on file: 644\n",
      "working on file: 645\n",
      "working on file: 646\n",
      "working on file: 647\n",
      "working on file: 648\n",
      "working on file: 649\n",
      "working on file: 650\n",
      "working on file: 651\n",
      "working on file: 652\n",
      "working on file: 653\n",
      "working on file: 654\n",
      "working on file: 655\n",
      "working on file: 656\n",
      "working on file: 657\n",
      "working on file: 658\n",
      "working on file: 659\n",
      "working on file: 660\n",
      "working on file: 661\n",
      "working on file: 662\n",
      "working on file: 663\n",
      "working on file: 664\n",
      "working on file: 665\n",
      "working on file: 666\n",
      "working on file: 667\n",
      "working on file: 668\n",
      "working on file: 669\n",
      "working on file: 670\n",
      "working on file: 671\n",
      "working on file: 672\n",
      "working on file: 673\n",
      "working on file: 674\n",
      "working on file: 675\n",
      "working on file: 676\n",
      "working on file: 677\n",
      "working on file: 678\n",
      "working on file: 679\n",
      "working on file: 680\n",
      "working on file: 681\n",
      "working on file: 682\n",
      "working on file: 683\n",
      "working on file: 684\n",
      "working on file: 685\n",
      "working on file: 686\n",
      "working on file: 687\n",
      "working on file: 688\n",
      "working on file: 689\n",
      "working on file: 690\n",
      "working on file: 691\n",
      "working on file: 692\n",
      "working on file: 693\n",
      "working on file: 694\n",
      "working on file: 695\n",
      "working on file: 696\n",
      "working on file: 697\n",
      "working on file: 698\n",
      "working on file: 699\n",
      "working on file: 700\n",
      "working on file: 701\n",
      "working on file: 702\n",
      "working on file: 703\n",
      "working on file: 704\n",
      "working on file: 705\n",
      "working on file: 706\n",
      "working on file: 707\n",
      "working on file: 708\n",
      "working on file: 709\n",
      "working on file: 710\n",
      "working on file: 711\n",
      "working on file: 712\n",
      "working on file: 713\n",
      "working on file: 714\n",
      "working on file: 715\n",
      "working on file: 716\n",
      "working on file: 717\n",
      "working on file: 718\n",
      "working on file: 719\n",
      "working on file: 720\n",
      "working on file: 721\n",
      "working on file: 722\n",
      "working on file: 723\n",
      "working on file: 724\n",
      "working on file: 725\n",
      "working on file: 726\n",
      "working on file: 727\n",
      "working on file: 728\n",
      "working on file: 729\n",
      "working on file: 730\n",
      "working on file: 731\n",
      "working on file: 732\n",
      "working on file: 733\n",
      "working on file: 734\n",
      "working on file: 735\n",
      "working on file: 736\n",
      "working on file: 737\n",
      "working on file: 738\n",
      "working on file: 739\n",
      "working on file: 740\n",
      "working on file: 741\n",
      "working on file: 742\n",
      "working on file: 743\n",
      "working on file: 744\n",
      "working on file: 745\n",
      "working on file: 746\n",
      "working on file: 747\n",
      "working on file: 748\n",
      "working on file: 749\n",
      "working on file: 750\n",
      "working on file: 751\n",
      "working on file: 752\n",
      "working on file: 753\n",
      "working on file: 754\n",
      "working on file: 755\n",
      "working on file: 756\n",
      "working on file: 757\n",
      "working on file: 758\n",
      "working on file: 759\n",
      "working on file: 760\n",
      "working on file: 761\n",
      "working on file: 762\n",
      "working on file: 763\n",
      "working on file: 764\n",
      "working on file: 765\n",
      "working on file: 766\n",
      "working on file: 767\n",
      "working on file: 768\n",
      "working on file: 769\n",
      "working on file: 770\n",
      "working on file: 771\n",
      "working on file: 772\n",
      "working on file: 773\n",
      "working on file: 774\n",
      "working on file: 775\n",
      "working on file: 776\n",
      "working on file: 777\n",
      "working on file: 778\n",
      "working on file: 779\n",
      "working on file: 780\n",
      "working on file: 781\n",
      "working on file: 782\n",
      "working on file: 783\n",
      "working on file: 784\n",
      "working on file: 785\n",
      "working on file: 786\n",
      "working on file: 787\n",
      "working on file: 788\n",
      "working on file: 789\n",
      "working on file: 790\n",
      "working on file: 791\n",
      "working on file: 792\n",
      "working on file: 793\n",
      "working on file: 794\n"
     ]
    },
    {
     "data": {
      "image/png": "[encoded data removed]",
      "text/plain": [
       "<matplotlib.figure.Figure at 0x7f89004317b8>"
      ]
     },
     "metadata": {
      "tags": []
     },
     "output_type": "display_data"
    }
   ],
   "source": [
    "# code from NikKonst (2018)\n",
    "\n",
    "# files = glob(test_path)\n",
    "files = os.listdir( testPath ) \n",
    "testImg = []\n",
    "testId = []\n",
    "j = 1\n",
    "num = len(files)\n",
    "print(\"total images: \"+str(num))\n",
    "\n",
    "# Obtain images and resizing, obtain labels\n",
    "for img in files:\n",
    "  print(\"working on file: \" + str(j))\n",
    "  img = testPath + img\n",
    "  print(\"Obtain images: \" + str(j) + \"/\" + str(num), end='\\r')\n",
    "  testId.append(img.split('/')[-1])  # Images id's\n",
    "  testImg.append(cv2.resize(cv2.imread(img), (scaleTo, scaleTo)))\n",
    "  j += 1\n",
    "\n",
    "testImg = np.asarray(testImg)  # Train images set # create an array of all the images\n",
    "\n",
    "for i in range(8):\n",
    "    plt.subplot(2, 4, i + 1)\n",
    "    plt.imshow(testImg[i])"
   ]
  },
  {
   "cell_type": "code",
   "execution_count": 54,
   "metadata": {
    "colab": {
     "base_uri": "https://localhost:8080/",
     "height": 34
    },
    "colab_type": "code",
    "id": "IZh9uJWmqi0k",
    "outputId": "5b49b813-ee1d-4c87-b1ec-fa230d312f35"
   },
   "outputs": [
    {
     "data": {
      "text/plain": [
       "(794, 71, 71, 3)"
      ]
     },
     "execution_count": 54,
     "metadata": {
      "tags": []
     },
     "output_type": "execute_result"
    }
   ],
   "source": [
    "testImg.shape"
   ]
  },
  {
   "cell_type": "code",
   "execution_count": 53,
   "metadata": {
    "colab": {
     "base_uri": "https://localhost:8080/",
     "height": 34
    },
    "colab_type": "code",
    "id": "flqe2hG8q2F-",
    "outputId": "a4e3f764-63f7-44d3-f3c4-9f228e29db23"
   },
   "outputs": [
    {
     "data": {
      "text/plain": [
       "numpy.ndarray"
      ]
     },
     "execution_count": 53,
     "metadata": {
      "tags": []
     },
     "output_type": "execute_result"
    }
   ],
   "source": [
    "type(testImg)"
   ]
  },
  {
   "cell_type": "markdown",
   "metadata": {
    "colab_type": "text",
    "id": "myd6KSeOpce1"
   },
   "source": [
    "### Apply mask technique to Kaggle testing images."
   ]
  },
  {
   "cell_type": "code",
   "execution_count": 55,
   "metadata": {
    "colab": {
     "base_uri": "https://localhost:8080/",
     "height": 268
    },
    "colab_type": "code",
    "id": "1_L9FB9LofX2",
    "outputId": "a9377522-2036-44c5-c144-dbfa3f5fc73f"
   },
   "outputs": [
    {
     "data": {
      "image/png": "[encoded data removed]",
      "text/plain": [
       "<matplotlib.figure.Figure at 0x7f8900431240>"
      ]
     },
     "metadata": {
      "tags": []
     },
     "output_type": "display_data"
    }
   ],
   "source": [
    "clearTestImg = []\n",
    "examples = []; getEx = True\n",
    "for img in testImg:\n",
    "  \n",
    "    # Use gaussian blur\n",
    "    blurImg = cv2.GaussianBlur(img, (5, 5), 0)   \n",
    "    \n",
    "    # Convert to HSV image\n",
    "    hsvImg = cv2.cvtColor(blurImg, cv2.COLOR_BGR2HSV)  \n",
    "    \n",
    "    # Create mask (parameters - green color range)\n",
    "    lower_green = (25, 40, 50)\n",
    "    upper_green = (75, 255, 255)\n",
    "    mask = cv2.inRange(hsvImg, lower_green, upper_green)  \n",
    "    kernel = cv2.getStructuringElement(cv2.MORPH_ELLIPSE, (11, 11))\n",
    "    mask = cv2.morphologyEx(mask, cv2.MORPH_CLOSE, kernel)\n",
    "    \n",
    "    # Create bool mask\n",
    "    bMask = mask > 0  \n",
    "    \n",
    "    # Apply the mask\n",
    "    clear = np.zeros_like(img, np.uint8)  # Create empty image\n",
    "    clear[bMask] = img[bMask]  # Apply boolean mask to the origin image\n",
    "    \n",
    "    clearTestImg.append(clear)  # Append image without backgroung\n",
    "    \n",
    "    # Show examples\n",
    "    if getEx:\n",
    "        plt.subplot(2, 3, 1); plt.imshow(img)  # Show the original image\n",
    "        plt.subplot(2, 3, 2); plt.imshow(blurImg)  # Blur image\n",
    "        plt.subplot(2, 3, 3); plt.imshow(hsvImg)  # HSV image\n",
    "        plt.subplot(2, 3, 4); plt.imshow(mask)  # Mask\n",
    "        plt.subplot(2, 3, 5); plt.imshow(bMask)  # Boolean mask\n",
    "        plt.subplot(2, 3, 6); plt.imshow(clear)  # Image without background\n",
    "        getEx = False\n",
    "\n",
    "clearTestImg = np.asarray(clearTestImg)"
   ]
  },
  {
   "cell_type": "code",
   "execution_count": 56,
   "metadata": {
    "colab": {
     "base_uri": "https://localhost:8080/",
     "height": 243
    },
    "colab_type": "code",
    "id": "YbCTG0oeMuwW",
    "outputId": "5178c964-422a-4487-d6af-fa22a2bb1db3"
   },
   "outputs": [
    {
     "data": {
      "image/png": "[encoded data removed]",
      "text/plain": [
       "<matplotlib.figure.Figure at 0x7f890020b9b0>"
      ]
     },
     "metadata": {
      "tags": []
     },
     "output_type": "display_data"
    }
   ],
   "source": [
    "# Show sample result\n",
    "for i in range(8):\n",
    "    plt.subplot(2, 4, i + 1)\n",
    "    plt.imshow(clearTestImg[i])"
   ]
  },
  {
   "cell_type": "code",
   "execution_count": 0,
   "metadata": {
    "colab": {},
    "colab_type": "code",
    "id": "0_COxGlToZh-"
   },
   "outputs": [],
   "source": [
    "# normalize Kaggle testing images\n",
    "clearTestImg = clearTestImg / 255\n",
    "\n"
   ]
  },
  {
   "cell_type": "code",
   "execution_count": 0,
   "metadata": {
    "colab": {},
    "colab_type": "code",
    "id": "xMDQ2cW1ogTk"
   },
   "outputs": [],
   "source": [
    "# predict on Kaggle testing images\n",
    "pred = model2.predict(clearTestImg)\n"
   ]
  },
  {
   "cell_type": "code",
   "execution_count": 0,
   "metadata": {
    "colab": {},
    "colab_type": "code",
    "id": "eNgF4F1UogqP"
   },
   "outputs": [],
   "source": [
    "# Write result to file.  Code from NikKonst (2018)\n",
    "predNum = np.argmax(pred, axis=1)\n",
    "predStr = le.classes_[predNum]\n",
    "\n",
    "res = {'file': testId, 'species': predStr}\n",
    "res = pd.DataFrame(res)\n",
    "res.to_csv(\"/content/drive/My Drive/DLproject/seedlingsToColab/res.csv\", index=False)"
   ]
  },
  {
   "cell_type": "markdown",
   "metadata": {
    "colab_type": "text",
    "id": "DbKYyVbrWODU"
   },
   "source": [
    "# References"
   ]
  },
  {
   "cell_type": "markdown",
   "metadata": {
    "colab_type": "text",
    "id": "esLSydzUWRC7"
   },
   "source": [
    "Chollet, F. (2018).  Deep Learning with Python.  Shelter Island, NY. Manning Publications Co.\n",
    "\n",
    "CoLab Drive FUSE example.ipynb (2018) Retrieved from https://colab.research.google.com/drive/1srw_HFWQ2SMgmWIawucXfusGzrj1_U0q.\n",
    "\n",
    "Kaggle (2018).  Retrieved from https://www.kaggle.com/c/plant-seedlings-classification/data.\n",
    "\n",
    "Kazachok, M. (2018). Keras simple model (0.97103 Best Public Score).  Retrieved from https://www.kaggle.com/miklgr500/keras-simple-model-0-97103-best-public-score\n",
    "\n",
    "Kim, G. (2018). Regis Course 686 Deep Learning Class homework solutions\n",
    "\n",
    "NikKonst (2018). Plant seedlings with cnn and image processing.  Retrieved from https://www.kaggle.com/nikkonst/plant-seedlings-with-cnn-and-image-processing\n",
    "\n",
    "\n"
   ]
  },
  {
   "cell_type": "code",
   "execution_count": 0,
   "metadata": {
    "colab": {},
    "colab_type": "code",
    "id": "CcCH13XBn5g7"
   },
   "outputs": [],
   "source": []
  }
 ],
 "metadata": {
  "accelerator": "GPU",
  "colab": {
   "collapsed_sections": [],
   "include_colab_link": true,
   "name": "Final Project.ipynb",
   "provenance": [],
   "toc_visible": true,
   "version": "0.3.2"
  },
  "kernelspec": {
   "display_name": "Python 3 (ipykernel)",
   "language": "python",
   "name": "python3"
  },
  "language_info": {
   "codemirror_mode": {
    "name": "ipython",
    "version": 3
   },
   "file_extension": ".py",
   "mimetype": "text/x-python",
   "name": "python",
   "nbconvert_exporter": "python",
   "pygments_lexer": "ipython3",
   "version": "3.9.12"
  }
 },
 "nbformat": 4,
 "nbformat_minor": 1
}
